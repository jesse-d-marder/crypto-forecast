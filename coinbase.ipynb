{
 "cells": [
  {
   "cell_type": "code",
   "execution_count": 1,
   "id": "53e937e6-42e5-4344-b899-1bfab3df1bdc",
   "metadata": {},
   "outputs": [],
   "source": [
    "import cbpro\n",
    "from env import *\n",
    "from datetime import datetime, timedelta\n",
    "import pandas as pd\n",
    "import time\n",
    "import acquire"
   ]
  },
  {
   "cell_type": "code",
   "execution_count": 7,
   "id": "a4cccb28-c5fa-4bc0-abea-e8a3d5c55dbc",
   "metadata": {},
   "outputs": [
    {
     "name": "stdout",
     "output_type": "stream",
     "text": [
      "Acquiring 0 / 3\n",
      "XLM-USD :Collecting range: 2022-04-16 20:32:49.873078-2022-04-17 01:32:49.873078, data length: 0"
     ]
    },
    {
     "name": "stderr",
     "output_type": "stream",
     "text": [
      "/opt/homebrew/anaconda3/envs/quant/lib/python3.9/site-packages/cryptography/hazmat/backends/openssl/x509.py:14: CryptographyDeprecationWarning: This version of cryptography contains a temporary pyOpenSSL fallback path. Upgrade pyOpenSSL now.\n",
      "  warnings.warn(\n"
     ]
    },
    {
     "name": "stdout",
     "output_type": "stream",
     "text": [
      "Acquiring 1 / 3ting range: 2022-04-19 13:32:49.873078-2022-04-19 18:32:49.873078, data length: 3\n",
      "Acquiring 2 / 3ting range: 2022-04-19 13:32:49.873078-2022-04-19 18:32:49.873078, data length: 3\n",
      "ETH-USD :Collecting range: 2022-04-19 13:32:49.873078-2022-04-19 18:32:49.873078, data length: 3"
     ]
    }
   ],
   "source": [
    "results = acquire.acquire_crypto_data(usd_products[:3], datetime.now()-timedelta(days=3), datetime.now(), minute_bars=86400)"
   ]
  },
  {
   "cell_type": "code",
   "execution_count": 2,
   "id": "afa6a9bf-9b27-49b7-a696-2c006bac8351",
   "metadata": {},
   "outputs": [],
   "source": [
    "auth_client = cbpro.AuthenticatedClient(api_key, secret_key, passphrase)"
   ]
  },
  {
   "cell_type": "code",
   "execution_count": 3,
   "id": "3c3d5762-0958-4d09-bfac-4227f3ea9934",
   "metadata": {},
   "outputs": [],
   "source": [
    "final_end_time = datetime.now()"
   ]
  },
  {
   "cell_type": "code",
   "execution_count": 8,
   "id": "a75c8d0a-af36-464d-b8ee-6a00a6374746",
   "metadata": {},
   "outputs": [],
   "source": [
    "products=auth_client.get_products()\n",
    "\n",
    "desired_products = ['BTC-USD',\n",
    " 'ETH-USD',\n",
    " 'LTC-USD',\n",
    " 'BCH-USD',\n",
    " 'ETC-USD',\n",
    " 'ZRX-USD',\n",
    " 'XLM-USD',\n",
    " 'REP-USD',\n",
    " 'EOS-USD',\n",
    " 'LINK-USD']\n",
    "usd_products = [crypto for crypto in products if crypto['id'] in desired_products]"
   ]
  },
  {
   "cell_type": "code",
   "execution_count": 9,
   "id": "a51d5ed0-8f75-4bad-aff4-619e97c83e12",
   "metadata": {},
   "outputs": [
    {
     "data": {
      "text/plain": [
       "{'message': 'granularity too small for the requested time range. Count of aggregations requested exceeds 300'}"
      ]
     },
     "execution_count": 9,
     "metadata": {},
     "output_type": "execute_result"
    }
   ],
   "source": [
    "auth_client.get_product_historic_rates('BTC-USD',start=datetime(2017, 4, 15, 0,0,0).isoformat(), end = datetime(2017, 4, 15, 23, 59, 0).isoformat(), granularity=60)"
   ]
  },
  {
   "cell_type": "code",
   "execution_count": 7,
   "id": "49d365a4-77e0-41e8-aa85-88d726d455ad",
   "metadata": {},
   "outputs": [],
   "source": [
    "first_start_time = (datetime.now()-timedelta(days=5000))\n",
    "\n",
    "first_end_time = first_start_time+timedelta(days=300)"
   ]
  },
  {
   "cell_type": "code",
   "execution_count": 8,
   "id": "2835217b-ee77-477e-ba43-abeb6a5ede40",
   "metadata": {},
   "outputs": [],
   "source": [
    "first_start_time = datetime(2017, 4, 15, 0,0,0)\n",
    "\n",
    "first_end_time = first_start_time+timedelta(minutes=300)\n",
    "\n",
    "final_end_time = datetime(2017, 4, 15,23,59,0)"
   ]
  },
  {
   "cell_type": "code",
   "execution_count": 10,
   "id": "e8cf7b25-f545-4adb-b09d-0168b48483a8",
   "metadata": {},
   "outputs": [
    {
     "name": "stdout",
     "output_type": "stream",
     "text": [
      "Acquiring 4 / 10\n",
      "BTC-USD :Collecting range: 2017-04-15 20:00:00-2017-04-16 01:00:00, data length: 1143"
     ]
    }
   ],
   "source": [
    "all_product_data=[]\n",
    "products_to_acquire = usd_products\n",
    "for i, product in enumerate(products_to_acquire):\n",
    "    if product['id'] == 'BTC-USD':\n",
    "        print(f\"\\rAcquiring {i} / {len(products_to_acquire)}\\n\",end=\"\")\n",
    "        data_list=[]\n",
    "        start_time = first_start_time\n",
    "        end_time = first_end_time\n",
    "        while start_time<final_end_time:\n",
    "            print(f\"\\r{product['id']} :Collecting range: {start_time}-{end_time}, data length: {len(data_list)}\",end=\"\")\n",
    "            start_time_iso = start_time.isoformat()\n",
    "            end_time_iso = end_time.isoformat()\n",
    "            try:\n",
    "                data_list.extend(auth_client.get_product_historic_rates(product['id'],start=start_time_iso, end=end_time_iso,granularity=60))\n",
    "            except:\n",
    "                print(\"Exception: sleep for 5\")\n",
    "                time.sleep(5)\n",
    "            start_time = start_time + timedelta(minutes=300)\n",
    "            end_time = end_time + timedelta(minutes=300)\n",
    "        time.sleep(5)\n",
    "        # dataframe = pd.DataFrame(data = [line for line in data_list if line != 'message'], columns = ['time','low','high','open','close','volume'])\n",
    "        # dataframe.to_csv(f'./daily_data/{product[\"id\"]}_data.csv',index=None)\n",
    "        all_product_data.append(data_list)"
   ]
  },
  {
   "cell_type": "code",
   "execution_count": 174,
   "id": "53bd21f9-c770-4d1e-9659-171db8399673",
   "metadata": {},
   "outputs": [],
   "source": [
    "dataframe = pd.DataFrame(data = [line for line in data_list if line != 'message'], columns = ['time','low','high','open','close','volume'])"
   ]
  },
  {
   "cell_type": "code",
   "execution_count": 175,
   "id": "2c12154e-fd56-472d-8368-a68a185d8587",
   "metadata": {},
   "outputs": [
    {
     "data": {
      "text/html": [
       "<div>\n",
       "<style scoped>\n",
       "    .dataframe tbody tr th:only-of-type {\n",
       "        vertical-align: middle;\n",
       "    }\n",
       "\n",
       "    .dataframe tbody tr th {\n",
       "        vertical-align: top;\n",
       "    }\n",
       "\n",
       "    .dataframe thead th {\n",
       "        text-align: right;\n",
       "    }\n",
       "</style>\n",
       "<table border=\"1\" class=\"dataframe\">\n",
       "  <thead>\n",
       "    <tr style=\"text-align: right;\">\n",
       "      <th></th>\n",
       "      <th>time</th>\n",
       "      <th>low</th>\n",
       "      <th>high</th>\n",
       "      <th>open</th>\n",
       "      <th>close</th>\n",
       "      <th>volume</th>\n",
       "    </tr>\n",
       "  </thead>\n",
       "  <tbody>\n",
       "    <tr>\n",
       "      <th>0</th>\n",
       "      <td>1492232400</td>\n",
       "      <td>1180.27</td>\n",
       "      <td>1180.35</td>\n",
       "      <td>1180.32</td>\n",
       "      <td>1180.28</td>\n",
       "      <td>0.274900</td>\n",
       "    </tr>\n",
       "    <tr>\n",
       "      <th>1</th>\n",
       "      <td>1492232340</td>\n",
       "      <td>1179.09</td>\n",
       "      <td>1180.14</td>\n",
       "      <td>1179.71</td>\n",
       "      <td>1180.14</td>\n",
       "      <td>1.982900</td>\n",
       "    </tr>\n",
       "    <tr>\n",
       "      <th>2</th>\n",
       "      <td>1492232280</td>\n",
       "      <td>1179.90</td>\n",
       "      <td>1180.76</td>\n",
       "      <td>1180.76</td>\n",
       "      <td>1179.90</td>\n",
       "      <td>0.580400</td>\n",
       "    </tr>\n",
       "    <tr>\n",
       "      <th>3</th>\n",
       "      <td>1492232220</td>\n",
       "      <td>1180.31</td>\n",
       "      <td>1180.79</td>\n",
       "      <td>1180.55</td>\n",
       "      <td>1180.31</td>\n",
       "      <td>0.647800</td>\n",
       "    </tr>\n",
       "    <tr>\n",
       "      <th>4</th>\n",
       "      <td>1492232160</td>\n",
       "      <td>1180.54</td>\n",
       "      <td>1180.78</td>\n",
       "      <td>1180.78</td>\n",
       "      <td>1180.54</td>\n",
       "      <td>0.309500</td>\n",
       "    </tr>\n",
       "    <tr>\n",
       "      <th>...</th>\n",
       "      <td>...</td>\n",
       "      <td>...</td>\n",
       "      <td>...</td>\n",
       "      <td>...</td>\n",
       "      <td>...</td>\n",
       "      <td>...</td>\n",
       "    </tr>\n",
       "    <tr>\n",
       "      <th>1253</th>\n",
       "      <td>1492297560</td>\n",
       "      <td>1155.02</td>\n",
       "      <td>1155.07</td>\n",
       "      <td>1155.07</td>\n",
       "      <td>1155.02</td>\n",
       "      <td>0.995000</td>\n",
       "    </tr>\n",
       "    <tr>\n",
       "      <th>1254</th>\n",
       "      <td>1492297500</td>\n",
       "      <td>1082.00</td>\n",
       "      <td>1181.97</td>\n",
       "      <td>1100.11</td>\n",
       "      <td>1181.97</td>\n",
       "      <td>24.663315</td>\n",
       "    </tr>\n",
       "    <tr>\n",
       "      <th>1255</th>\n",
       "      <td>1492297440</td>\n",
       "      <td>975.00</td>\n",
       "      <td>1181.95</td>\n",
       "      <td>1070.00</td>\n",
       "      <td>1181.95</td>\n",
       "      <td>12.337065</td>\n",
       "    </tr>\n",
       "    <tr>\n",
       "      <th>1256</th>\n",
       "      <td>1492297380</td>\n",
       "      <td>900.00</td>\n",
       "      <td>1186.60</td>\n",
       "      <td>900.04</td>\n",
       "      <td>951.01</td>\n",
       "      <td>99.511919</td>\n",
       "    </tr>\n",
       "    <tr>\n",
       "      <th>1257</th>\n",
       "      <td>1492297320</td>\n",
       "      <td>0.06</td>\n",
       "      <td>0.06</td>\n",
       "      <td>0.06</td>\n",
       "      <td>0.06</td>\n",
       "      <td>0.778747</td>\n",
       "    </tr>\n",
       "  </tbody>\n",
       "</table>\n",
       "<p>1258 rows × 6 columns</p>\n",
       "</div>"
      ],
      "text/plain": [
       "            time      low     high     open    close     volume\n",
       "0     1492232400  1180.27  1180.35  1180.32  1180.28   0.274900\n",
       "1     1492232340  1179.09  1180.14  1179.71  1180.14   1.982900\n",
       "2     1492232280  1179.90  1180.76  1180.76  1179.90   0.580400\n",
       "3     1492232220  1180.31  1180.79  1180.55  1180.31   0.647800\n",
       "4     1492232160  1180.54  1180.78  1180.78  1180.54   0.309500\n",
       "...          ...      ...      ...      ...      ...        ...\n",
       "1253  1492297560  1155.02  1155.07  1155.07  1155.02   0.995000\n",
       "1254  1492297500  1082.00  1181.97  1100.11  1181.97  24.663315\n",
       "1255  1492297440   975.00  1181.95  1070.00  1181.95  12.337065\n",
       "1256  1492297380   900.00  1186.60   900.04   951.01  99.511919\n",
       "1257  1492297320     0.06     0.06     0.06     0.06   0.778747\n",
       "\n",
       "[1258 rows x 6 columns]"
      ]
     },
     "execution_count": 175,
     "metadata": {},
     "output_type": "execute_result"
    }
   ],
   "source": [
    "dataframe"
   ]
  },
  {
   "cell_type": "code",
   "execution_count": 135,
   "id": "a230b811-e87f-43cb-b93f-705e71005fdd",
   "metadata": {},
   "outputs": [
    {
     "name": "stdout",
     "output_type": "stream",
     "text": [
      "Acquiring 0 / 161\n",
      "NKN-USD :Collecting range: 2020-12-03 19:44:05.889639-2020-12-04 00:44:05.889639, data length: 0"
     ]
    },
    {
     "name": "stderr",
     "output_type": "stream",
     "text": [
      "/opt/homebrew/anaconda3/envs/quant/lib/python3.9/site-packages/cryptography/hazmat/backends/openssl/x509.py:14: CryptographyDeprecationWarning: This version of cryptography contains a temporary pyOpenSSL fallback path. Upgrade pyOpenSSL now.\n",
      "  warnings.warn(\n"
     ]
    },
    {
     "name": "stdout",
     "output_type": "stream",
     "text": [
      "Acquiring 1 / 161ng range: 2022-04-15 07:44:05.889639-2022-04-15 12:44:05.889639, data length: 348079\n",
      "GFI-USD :Collecting range: 2021-04-09 21:44:05.889639-2021-04-10 02:44:05.889639, data length: 0"
     ]
    },
    {
     "name": "stderr",
     "output_type": "stream",
     "text": [
      "/opt/homebrew/anaconda3/envs/quant/lib/python3.9/site-packages/cryptography/hazmat/backends/openssl/x509.py:14: CryptographyDeprecationWarning: This version of cryptography contains a temporary pyOpenSSL fallback path. Upgrade pyOpenSSL now.\n",
      "  warnings.warn(\n"
     ]
    },
    {
     "name": "stdout",
     "output_type": "stream",
     "text": [
      "Acquiring 2 / 161ng range: 2022-04-15 07:44:05.889639-2022-04-15 12:44:05.889639, data length: 47796\n",
      "CLV-USD :Collecting range: 2021-01-18 10:44:05.889639-2021-01-18 15:44:05.889639, data length: 77"
     ]
    },
    {
     "name": "stderr",
     "output_type": "stream",
     "text": [
      "/opt/homebrew/anaconda3/envs/quant/lib/python3.9/site-packages/cryptography/hazmat/backends/openssl/x509.py:14: CryptographyDeprecationWarning: This version of cryptography contains a temporary pyOpenSSL fallback path. Upgrade pyOpenSSL now.\n",
      "  warnings.warn(\n"
     ]
    },
    {
     "name": "stdout",
     "output_type": "stream",
     "text": [
      "Acquiring 3 / 161ng range: 2022-04-15 07:44:05.889639-2022-04-15 12:44:05.889639, data length: 308543\n",
      "POLS-USD :Collecting range: 2021-05-25 17:44:05.889639-2021-05-25 22:44:05.889639, data length: 354"
     ]
    },
    {
     "name": "stderr",
     "output_type": "stream",
     "text": [
      "/opt/homebrew/anaconda3/envs/quant/lib/python3.9/site-packages/cryptography/hazmat/backends/openssl/x509.py:14: CryptographyDeprecationWarning: This version of cryptography contains a temporary pyOpenSSL fallback path. Upgrade pyOpenSSL now.\n",
      "  warnings.warn(\n"
     ]
    },
    {
     "name": "stdout",
     "output_type": "stream",
     "text": [
      "Acquiring 4 / 161ing range: 2022-04-15 07:44:05.889639-2022-04-15 12:44:05.889639, data length: 31125\n",
      "QNT-USD :Collecting range: 2021-03-05 11:44:05.889639-2021-03-05 16:44:05.889639, data length: 172"
     ]
    },
    {
     "name": "stderr",
     "output_type": "stream",
     "text": [
      "/opt/homebrew/anaconda3/envs/quant/lib/python3.9/site-packages/cryptography/hazmat/backends/openssl/x509.py:14: CryptographyDeprecationWarning: This version of cryptography contains a temporary pyOpenSSL fallback path. Upgrade pyOpenSSL now.\n",
      "  warnings.warn(\n"
     ]
    },
    {
     "name": "stdout",
     "output_type": "stream",
     "text": [
      "Acquiring 5 / 161ng range: 2022-04-15 07:44:05.889639-2022-04-15 12:44:05.889639, data length: 332826\n",
      "KEEP-USD :Collecting range: 2020-12-14 00:44:05.889639-2020-12-14 05:44:05.889639, data length: 3"
     ]
    },
    {
     "name": "stderr",
     "output_type": "stream",
     "text": [
      "/opt/homebrew/anaconda3/envs/quant/lib/python3.9/site-packages/cryptography/hazmat/backends/openssl/x509.py:14: CryptographyDeprecationWarning: This version of cryptography contains a temporary pyOpenSSL fallback path. Upgrade pyOpenSSL now.\n",
      "  warnings.warn(\n"
     ]
    },
    {
     "name": "stdout",
     "output_type": "stream",
     "text": [
      "Acquiring 6 / 161ing range: 2022-04-15 07:44:05.889639-2022-04-15 12:44:05.889639, data length: 256634\n",
      "AERGO-USD :Collecting range: 2021-04-20 02:44:05.889639-2021-04-20 07:44:05.889639, data length: 0"
     ]
    },
    {
     "name": "stderr",
     "output_type": "stream",
     "text": [
      "/opt/homebrew/anaconda3/envs/quant/lib/python3.9/site-packages/cryptography/hazmat/backends/openssl/x509.py:14: CryptographyDeprecationWarning: This version of cryptography contains a temporary pyOpenSSL fallback path. Upgrade pyOpenSSL now.\n",
      "  warnings.warn(\n"
     ]
    },
    {
     "name": "stdout",
     "output_type": "stream",
     "text": [
      "Acquiring 7 / 161ting range: 2022-04-15 07:44:05.889639-2022-04-15 12:44:05.889639, data length: 13000\n",
      "SUPER-USD :Collecting range: 2021-01-28 20:44:05.889639-2021-01-29 01:44:05.889639, data length: 100"
     ]
    },
    {
     "name": "stderr",
     "output_type": "stream",
     "text": [
      "/opt/homebrew/anaconda3/envs/quant/lib/python3.9/site-packages/cryptography/hazmat/backends/openssl/x509.py:14: CryptographyDeprecationWarning: This version of cryptography contains a temporary pyOpenSSL fallback path. Upgrade pyOpenSSL now.\n",
      "  warnings.warn(\n"
     ]
    },
    {
     "name": "stdout",
     "output_type": "stream",
     "text": [
      "Acquiring 8 / 161ting range: 2022-04-15 07:44:05.889639-2022-04-15 12:44:05.889639, data length: 67287\n",
      "ANKR-USD :Collecting range: 2021-06-04 22:44:05.889639-2021-06-05 03:44:05.889639, data length: 92670"
     ]
    },
    {
     "name": "stderr",
     "output_type": "stream",
     "text": [
      "/opt/homebrew/anaconda3/envs/quant/lib/python3.9/site-packages/cryptography/hazmat/backends/openssl/x509.py:14: CryptographyDeprecationWarning: This version of cryptography contains a temporary pyOpenSSL fallback path. Upgrade pyOpenSSL now.\n",
      "  warnings.warn(\n"
     ]
    },
    {
     "name": "stdout",
     "output_type": "stream",
     "text": [
      "Acquiring 9 / 161ing range: 2022-04-15 07:44:05.889639-2022-04-15 12:44:05.889639, data length: 504122\n",
      "POLY-USD :Collecting range: 2021-03-15 16:44:05.889639-2021-03-15 21:44:05.889639, data length: 0"
     ]
    },
    {
     "name": "stderr",
     "output_type": "stream",
     "text": [
      "/opt/homebrew/anaconda3/envs/quant/lib/python3.9/site-packages/cryptography/hazmat/backends/openssl/x509.py:14: CryptographyDeprecationWarning: This version of cryptography contains a temporary pyOpenSSL fallback path. Upgrade pyOpenSSL now.\n",
      "  warnings.warn(\n"
     ]
    },
    {
     "name": "stdout",
     "output_type": "stream",
     "text": [
      "Acquiring 10 / 161ng range: 2022-04-15 07:44:05.889639-2022-04-15 12:44:05.889639, data length: 223734\n",
      "FIDA-USD :Collecting range: 2020-12-24 10:44:05.889639-2020-12-24 15:44:05.889639, data length: 28"
     ]
    },
    {
     "name": "stderr",
     "output_type": "stream",
     "text": [
      "/opt/homebrew/anaconda3/envs/quant/lib/python3.9/site-packages/cryptography/hazmat/backends/openssl/x509.py:14: CryptographyDeprecationWarning: This version of cryptography contains a temporary pyOpenSSL fallback path. Upgrade pyOpenSSL now.\n",
      "  warnings.warn(\n"
     ]
    },
    {
     "name": "stdout",
     "output_type": "stream",
     "text": [
      "Acquiring 11 / 161ng range: 2022-04-15 07:44:05.889639-2022-04-15 12:44:05.889639, data length: 27961\n",
      "YFII-USD :Collecting range: 2021-04-30 12:44:05.889639-2021-04-30 17:44:05.889639, data length: 285"
     ]
    },
    {
     "name": "stderr",
     "output_type": "stream",
     "text": [
      "/opt/homebrew/anaconda3/envs/quant/lib/python3.9/site-packages/cryptography/hazmat/backends/openssl/x509.py:14: CryptographyDeprecationWarning: This version of cryptography contains a temporary pyOpenSSL fallback path. Upgrade pyOpenSSL now.\n",
      "  warnings.warn(\n"
     ]
    },
    {
     "name": "stdout",
     "output_type": "stream",
     "text": [
      "Acquiring 12 / 161ng range: 2022-04-15 07:44:05.889639-2022-04-15 12:44:05.889639, data length: 54262\n",
      "RARI-USD :Collecting range: 2021-02-08 06:44:05.889639-2021-02-08 11:44:05.889639, data length: 125"
     ]
    },
    {
     "name": "stderr",
     "output_type": "stream",
     "text": [
      "/opt/homebrew/anaconda3/envs/quant/lib/python3.9/site-packages/cryptography/hazmat/backends/openssl/x509.py:14: CryptographyDeprecationWarning: This version of cryptography contains a temporary pyOpenSSL fallback path. Upgrade pyOpenSSL now.\n",
      "  warnings.warn(\n"
     ]
    },
    {
     "name": "stdout",
     "output_type": "stream",
     "text": [
      "Acquiring 13 / 161ng range: 2022-04-15 07:44:05.889639-2022-04-15 12:44:05.889639, data length: 89321\n",
      "DAI-USD :Collecting range: 2021-06-15 13:44:05.889639-2021-06-15 18:44:05.889639, data length: 268135"
     ]
    },
    {
     "name": "stderr",
     "output_type": "stream",
     "text": [
      "/opt/homebrew/anaconda3/envs/quant/lib/python3.9/site-packages/cryptography/hazmat/backends/openssl/x509.py:14: CryptographyDeprecationWarning: This version of cryptography contains a temporary pyOpenSSL fallback path. Upgrade pyOpenSSL now.\n",
      "  warnings.warn(\n"
     ]
    },
    {
     "name": "stdout",
     "output_type": "stream",
     "text": [
      "Acquiring 14 / 161g range: 2022-04-15 07:44:05.889639-2022-04-15 12:44:05.889639, data length: 701125\n",
      "UNFI-USD :Collecting range: 2021-03-26 02:44:05.889639-2021-03-26 07:44:05.889639, data length: 204"
     ]
    },
    {
     "name": "stderr",
     "output_type": "stream",
     "text": [
      "/opt/homebrew/anaconda3/envs/quant/lib/python3.9/site-packages/cryptography/hazmat/backends/openssl/x509.py:14: CryptographyDeprecationWarning: This version of cryptography contains a temporary pyOpenSSL fallback path. Upgrade pyOpenSSL now.\n",
      "  warnings.warn(\n"
     ]
    },
    {
     "name": "stdout",
     "output_type": "stream",
     "text": [
      "Acquiring 15 / 161ng range: 2022-04-15 07:44:05.889639-2022-04-15 12:44:05.889639, data length: 13088\n",
      "MPL-USD :Collecting range: 2021-01-04 01:44:05.889639-2021-01-04 06:44:05.889639, data length: 50"
     ]
    },
    {
     "name": "stderr",
     "output_type": "stream",
     "text": [
      "/opt/homebrew/anaconda3/envs/quant/lib/python3.9/site-packages/cryptography/hazmat/backends/openssl/x509.py:14: CryptographyDeprecationWarning: This version of cryptography contains a temporary pyOpenSSL fallback path. Upgrade pyOpenSSL now.\n",
      "  warnings.warn(\n"
     ]
    },
    {
     "name": "stdout",
     "output_type": "stream",
     "text": [
      "Acquiring 16 / 161g range: 2022-04-15 07:44:05.889639-2022-04-15 12:44:05.889639, data length: 56168\n",
      "SUSHI-USD :Collecting range: 2021-05-11 03:44:05.889639-2021-05-11 08:44:05.889639, data length: 71919"
     ]
    },
    {
     "name": "stderr",
     "output_type": "stream",
     "text": [
      "/opt/homebrew/anaconda3/envs/quant/lib/python3.9/site-packages/cryptography/hazmat/backends/openssl/x509.py:14: CryptographyDeprecationWarning: This version of cryptography contains a temporary pyOpenSSL fallback path. Upgrade pyOpenSSL now.\n",
      "  warnings.warn(\n"
     ]
    },
    {
     "name": "stdout",
     "output_type": "stream",
     "text": [
      "Acquiring 17 / 161ing range: 2022-04-15 07:44:05.889639-2022-04-15 12:44:05.889639, data length: 456546\n",
      "AGLD-USD :Collecting range: 2021-02-18 16:44:05.889639-2021-02-18 21:44:05.889639, data length: 0"
     ]
    },
    {
     "name": "stderr",
     "output_type": "stream",
     "text": [
      "/opt/homebrew/anaconda3/envs/quant/lib/python3.9/site-packages/cryptography/hazmat/backends/openssl/x509.py:14: CryptographyDeprecationWarning: This version of cryptography contains a temporary pyOpenSSL fallback path. Upgrade pyOpenSSL now.\n",
      "  warnings.warn(\n"
     ]
    },
    {
     "name": "stdout",
     "output_type": "stream",
     "text": [
      "Acquiring 18 / 161ng range: 2022-04-15 07:44:05.889639-2022-04-15 12:44:05.889639, data length: 117603\n",
      "MIR-USD :Collecting range: 2021-06-25 18:44:05.889639-2021-06-25 23:44:05.889639, data length: 39848"
     ]
    },
    {
     "name": "stderr",
     "output_type": "stream",
     "text": [
      "/opt/homebrew/anaconda3/envs/quant/lib/python3.9/site-packages/cryptography/hazmat/backends/openssl/x509.py:14: CryptographyDeprecationWarning: This version of cryptography contains a temporary pyOpenSSL fallback path. Upgrade pyOpenSSL now.\n",
      "  warnings.warn(\n"
     ]
    },
    {
     "name": "stdout",
     "output_type": "stream",
     "text": [
      "Acquiring 19 / 161g range: 2022-04-15 07:44:05.889639-2022-04-15 12:44:05.889639, data length: 201613\n",
      "KRL-USD :Collecting range: 2021-04-05 12:44:05.889639-2021-04-05 17:44:05.889639, data length: 251"
     ]
    },
    {
     "name": "stderr",
     "output_type": "stream",
     "text": [
      "/opt/homebrew/anaconda3/envs/quant/lib/python3.9/site-packages/cryptography/hazmat/backends/openssl/x509.py:14: CryptographyDeprecationWarning: This version of cryptography contains a temporary pyOpenSSL fallback path. Upgrade pyOpenSSL now.\n",
      "  warnings.warn(\n"
     ]
    },
    {
     "name": "stdout",
     "output_type": "stream",
     "text": [
      "Acquiring 20 / 161g range: 2022-04-15 07:44:05.889639-2022-04-15 12:44:05.889639, data length: 97833\n",
      "OXT-USD :Collecting range: 2021-01-14 06:44:05.889639-2021-01-14 11:44:05.889639, data length: 49466"
     ]
    },
    {
     "name": "stderr",
     "output_type": "stream",
     "text": [
      "/opt/homebrew/anaconda3/envs/quant/lib/python3.9/site-packages/cryptography/hazmat/backends/openssl/x509.py:14: CryptographyDeprecationWarning: This version of cryptography contains a temporary pyOpenSSL fallback path. Upgrade pyOpenSSL now.\n",
      "  warnings.warn(\n"
     ]
    },
    {
     "name": "stdout",
     "output_type": "stream",
     "text": [
      "Acquiring 21 / 161g range: 2022-04-15 07:44:05.889639-2022-04-15 12:44:05.889639, data length: 474481\n",
      "FORTH-USD :Collecting range: 2021-04-25 17:44:05.889639-2021-04-25 22:44:05.889639, data length: 5364Exception: sleep for 5\n",
      "FORTH-USD :Collecting range: 2021-04-26 03:44:05.889639-2021-04-26 08:44:05.889639, data length: 5664"
     ]
    },
    {
     "name": "stderr",
     "output_type": "stream",
     "text": [
      "/opt/homebrew/anaconda3/envs/quant/lib/python3.9/site-packages/cryptography/hazmat/backends/openssl/x509.py:14: CryptographyDeprecationWarning: This version of cryptography contains a temporary pyOpenSSL fallback path. Upgrade pyOpenSSL now.\n",
      "  warnings.warn(\n"
     ]
    },
    {
     "name": "stdout",
     "output_type": "stream",
     "text": [
      "Acquiring 22 / 161ing range: 2022-04-15 07:44:05.889639-2022-04-15 12:44:05.889639, data length: 291585\n",
      "CTSI-USD :Collecting range: 2021-02-03 16:44:05.889639-2021-02-03 21:44:05.889639, data length: 110"
     ]
    },
    {
     "name": "stderr",
     "output_type": "stream",
     "text": [
      "/opt/homebrew/anaconda3/envs/quant/lib/python3.9/site-packages/cryptography/hazmat/backends/openssl/x509.py:14: CryptographyDeprecationWarning: This version of cryptography contains a temporary pyOpenSSL fallback path. Upgrade pyOpenSSL now.\n",
      "  warnings.warn(\n"
     ]
    },
    {
     "name": "stdout",
     "output_type": "stream",
     "text": [
      "Acquiring 23 / 161ng range: 2022-04-15 07:44:05.889639-2022-04-15 12:44:05.889639, data length: 365238\n",
      "REQ-USD :Collecting range: 2020-12-22 18:44:05.889639-2020-12-22 23:44:05.889639, data length: 23Exception: sleep for 5\n",
      "REQ-USD :Collecting range: 2020-12-23 04:44:05.889639-2020-12-23 09:44:05.889639, data length: 23"
     ]
    },
    {
     "name": "stderr",
     "output_type": "stream",
     "text": [
      "/opt/homebrew/anaconda3/envs/quant/lib/python3.9/site-packages/cryptography/hazmat/backends/openssl/x509.py:14: CryptographyDeprecationWarning: This version of cryptography contains a temporary pyOpenSSL fallback path. Upgrade pyOpenSSL now.\n",
      "  warnings.warn(\n"
     ]
    },
    {
     "name": "stdout",
     "output_type": "stream",
     "text": [
      "Acquiring 24 / 161g range: 2022-04-15 07:44:05.889639-2022-04-15 12:44:05.889639, data length: 253286\n",
      "BADGER-USD :Collecting range: 2021-04-29 06:44:05.889639-2021-04-29 11:44:05.889639, data length: 298"
     ]
    },
    {
     "name": "stderr",
     "output_type": "stream",
     "text": [
      "/opt/homebrew/anaconda3/envs/quant/lib/python3.9/site-packages/cryptography/hazmat/backends/openssl/x509.py:14: CryptographyDeprecationWarning: This version of cryptography contains a temporary pyOpenSSL fallback path. Upgrade pyOpenSSL now.\n",
      "  warnings.warn(\n"
     ]
    },
    {
     "name": "stdout",
     "output_type": "stream",
     "text": [
      "Acquiring 25 / 161ting range: 2022-04-15 07:44:05.889639-2022-04-15 12:44:05.889639, data length: 107374\n",
      "INV-USD :Collecting range: 2021-02-06 19:44:05.889639-2021-02-07 00:44:05.889639, data length: 118"
     ]
    },
    {
     "name": "stderr",
     "output_type": "stream",
     "text": [
      "/opt/homebrew/anaconda3/envs/quant/lib/python3.9/site-packages/cryptography/hazmat/backends/openssl/x509.py:14: CryptographyDeprecationWarning: This version of cryptography contains a temporary pyOpenSSL fallback path. Upgrade pyOpenSSL now.\n",
      "  warnings.warn(\n"
     ]
    },
    {
     "name": "stdout",
     "output_type": "stream",
     "text": [
      "Acquiring 26 / 161g range: 2022-04-15 07:44:05.889639-2022-04-15 12:44:05.889639, data length: 49514\n",
      "DESO-USD :Collecting range: 2021-06-13 21:44:05.889639-2021-06-14 02:44:05.889639, data length: 392"
     ]
    },
    {
     "name": "stderr",
     "output_type": "stream",
     "text": [
      "/opt/homebrew/anaconda3/envs/quant/lib/python3.9/site-packages/cryptography/hazmat/backends/openssl/x509.py:14: CryptographyDeprecationWarning: This version of cryptography contains a temporary pyOpenSSL fallback path. Upgrade pyOpenSSL now.\n",
      "  warnings.warn(\n"
     ]
    },
    {
     "name": "stdout",
     "output_type": "stream",
     "text": [
      "Acquiring 27 / 161ng range: 2022-04-15 07:44:05.889639-2022-04-15 12:44:05.889639, data length: 114069\n",
      "ENS-USD :Collecting range: 2021-03-24 15:44:05.889639-2021-03-24 20:44:05.889639, data length: 0"
     ]
    },
    {
     "name": "stderr",
     "output_type": "stream",
     "text": [
      "/opt/homebrew/anaconda3/envs/quant/lib/python3.9/site-packages/cryptography/hazmat/backends/openssl/x509.py:14: CryptographyDeprecationWarning: This version of cryptography contains a temporary pyOpenSSL fallback path. Upgrade pyOpenSSL now.\n",
      "  warnings.warn(\n"
     ]
    },
    {
     "name": "stdout",
     "output_type": "stream",
     "text": [
      "Acquiring 28 / 161g range: 2022-04-15 07:44:05.889639-2022-04-15 12:44:05.889639, data length: 121026\n",
      "MASK-USD :Collecting range: 2021-01-02 09:44:05.889639-2021-01-02 14:44:05.889639, data length: 36"
     ]
    },
    {
     "name": "stderr",
     "output_type": "stream",
     "text": [
      "/opt/homebrew/anaconda3/envs/quant/lib/python3.9/site-packages/cryptography/hazmat/backends/openssl/x509.py:14: CryptographyDeprecationWarning: This version of cryptography contains a temporary pyOpenSSL fallback path. Upgrade pyOpenSSL now.\n",
      "  warnings.warn(\n"
     ]
    },
    {
     "name": "stdout",
     "output_type": "stream",
     "text": [
      "Acquiring 29 / 161ng range: 2022-04-15 07:44:05.889639-2022-04-15 12:44:05.889639, data length: 143189\n",
      "ADA-USD :Collecting range: 2021-05-09 11:44:05.889639-2021-05-09 16:44:05.889639, data length: 64120"
     ]
    },
    {
     "name": "stderr",
     "output_type": "stream",
     "text": [
      "/opt/homebrew/anaconda3/envs/quant/lib/python3.9/site-packages/cryptography/hazmat/backends/openssl/x509.py:14: CryptographyDeprecationWarning: This version of cryptography contains a temporary pyOpenSSL fallback path. Upgrade pyOpenSSL now.\n",
      "  warnings.warn(\n"
     ]
    },
    {
     "name": "stdout",
     "output_type": "stream",
     "text": [
      "Acquiring 30 / 161g range: 2022-04-15 07:44:05.889639-2022-04-15 12:44:05.889639, data length: 549379\n",
      "SOL-USD :Collecting range: 2021-02-17 10:44:05.889639-2021-02-17 15:44:05.889639, data length: 139"
     ]
    },
    {
     "name": "stderr",
     "output_type": "stream",
     "text": [
      "/opt/homebrew/anaconda3/envs/quant/lib/python3.9/site-packages/cryptography/hazmat/backends/openssl/x509.py:14: CryptographyDeprecationWarning: This version of cryptography contains a temporary pyOpenSSL fallback path. Upgrade pyOpenSSL now.\n",
      "  warnings.warn(\n"
     ]
    },
    {
     "name": "stdout",
     "output_type": "stream",
     "text": [
      "Acquiring 31 / 161g range: 2022-04-15 07:44:05.889639-2022-04-15 12:44:05.889639, data length: 404689\n",
      "OGN-USD :Collecting range: 2021-06-24 07:44:05.889639-2021-06-24 12:44:05.889639, data length: 85306"
     ]
    },
    {
     "name": "stderr",
     "output_type": "stream",
     "text": [
      "/opt/homebrew/anaconda3/envs/quant/lib/python3.9/site-packages/cryptography/hazmat/backends/openssl/x509.py:14: CryptographyDeprecationWarning: This version of cryptography contains a temporary pyOpenSSL fallback path. Upgrade pyOpenSSL now.\n",
      "  warnings.warn(\n"
     ]
    },
    {
     "name": "stdout",
     "output_type": "stream",
     "text": [
      "Acquiring 32 / 161g range: 2022-04-15 07:44:05.889639-2022-04-15 12:44:05.889639, data length: 311004\n",
      "GODS-USD :Collecting range: 2021-04-04 01:44:05.889639-2021-04-04 06:44:05.889639, data length: 246"
     ]
    },
    {
     "name": "stderr",
     "output_type": "stream",
     "text": [
      "/opt/homebrew/anaconda3/envs/quant/lib/python3.9/site-packages/cryptography/hazmat/backends/openssl/x509.py:14: CryptographyDeprecationWarning: This version of cryptography contains a temporary pyOpenSSL fallback path. Upgrade pyOpenSSL now.\n",
      "  warnings.warn(\n"
     ]
    },
    {
     "name": "stdout",
     "output_type": "stream",
     "text": [
      "Acquiring 33 / 161ng range: 2022-04-15 07:44:05.889639-2022-04-15 12:44:05.889639, data length: 74263\n",
      "OMG-USD :Collecting range: 2021-01-13 00:44:05.889639-2021-01-13 05:44:05.889639, data length: 41771"
     ]
    },
    {
     "name": "stderr",
     "output_type": "stream",
     "text": [
      "/opt/homebrew/anaconda3/envs/quant/lib/python3.9/site-packages/cryptography/hazmat/backends/openssl/x509.py:14: CryptographyDeprecationWarning: This version of cryptography contains a temporary pyOpenSSL fallback path. Upgrade pyOpenSSL now.\n",
      "  warnings.warn(\n"
     ]
    },
    {
     "name": "stdout",
     "output_type": "stream",
     "text": [
      "Acquiring 34 / 161g range: 2022-04-15 07:44:05.889639-2022-04-15 12:44:05.889639, data length: 475986\n",
      "STORJ-USD :Collecting range: 2021-05-20 02:44:05.889639-2021-05-20 07:44:05.889639, data length: 77710"
     ]
    },
    {
     "name": "stderr",
     "output_type": "stream",
     "text": [
      "/opt/homebrew/anaconda3/envs/quant/lib/python3.9/site-packages/cryptography/hazmat/backends/openssl/x509.py:14: CryptographyDeprecationWarning: This version of cryptography contains a temporary pyOpenSSL fallback path. Upgrade pyOpenSSL now.\n",
      "  warnings.warn(\n"
     ]
    },
    {
     "name": "stdout",
     "output_type": "stream",
     "text": [
      "Acquiring 35 / 161ing range: 2022-04-15 07:44:05.889639-2022-04-15 12:44:05.889639, data length: 368995\n",
      "NCT-USD :Collecting range: 2021-02-28 01:44:05.889639-2021-02-28 06:44:05.889639, data length: 155"
     ]
    },
    {
     "name": "stderr",
     "output_type": "stream",
     "text": [
      "/opt/homebrew/anaconda3/envs/quant/lib/python3.9/site-packages/cryptography/hazmat/backends/openssl/x509.py:14: CryptographyDeprecationWarning: This version of cryptography contains a temporary pyOpenSSL fallback path. Upgrade pyOpenSSL now.\n",
      "  warnings.warn(\n"
     ]
    },
    {
     "name": "stdout",
     "output_type": "stream",
     "text": [
      "Acquiring 36 / 161g range: 2022-04-15 07:44:05.889639-2022-04-15 12:44:05.889639, data length: 68536\n",
      "PAX-USD :Collecting range: 2020-12-08 09:44:05.889639-2020-12-08 14:44:05.889639, data length: 0"
     ]
    },
    {
     "name": "stderr",
     "output_type": "stream",
     "text": [
      "/opt/homebrew/anaconda3/envs/quant/lib/python3.9/site-packages/cryptography/hazmat/backends/openssl/x509.py:14: CryptographyDeprecationWarning: This version of cryptography contains a temporary pyOpenSSL fallback path. Upgrade pyOpenSSL now.\n",
      "  warnings.warn(\n"
     ]
    },
    {
     "name": "stdout",
     "output_type": "stream",
     "text": [
      "Acquiring 37 / 161g range: 2022-04-15 07:44:05.889639-2022-04-15 12:44:05.889639, data length: 35282\n",
      "BTRST-USD :Collecting range: 2021-04-14 11:44:05.889639-2021-04-14 16:44:05.889639, data length: 266"
     ]
    },
    {
     "name": "stderr",
     "output_type": "stream",
     "text": [
      "/opt/homebrew/anaconda3/envs/quant/lib/python3.9/site-packages/cryptography/hazmat/backends/openssl/x509.py:14: CryptographyDeprecationWarning: This version of cryptography contains a temporary pyOpenSSL fallback path. Upgrade pyOpenSSL now.\n",
      "  warnings.warn(\n"
     ]
    },
    {
     "name": "stdout",
     "output_type": "stream",
     "text": [
      "Acquiring 38 / 161ing range: 2022-04-15 07:44:05.889639-2022-04-15 12:44:05.889639, data length: 88019\n",
      "SHPING-USD :Collecting range: 2021-01-23 05:44:05.889639-2021-01-23 10:44:05.889639, data length: 82"
     ]
    },
    {
     "name": "stderr",
     "output_type": "stream",
     "text": [
      "/opt/homebrew/anaconda3/envs/quant/lib/python3.9/site-packages/cryptography/hazmat/backends/openssl/x509.py:14: CryptographyDeprecationWarning: This version of cryptography contains a temporary pyOpenSSL fallback path. Upgrade pyOpenSSL now.\n",
      "  warnings.warn(\n"
     ]
    },
    {
     "name": "stdout",
     "output_type": "stream",
     "text": [
      "Acquiring 39 / 161ting range: 2022-04-15 07:44:05.889639-2022-04-15 12:44:05.889639, data length: 76121\n",
      "ETH-USD :Collecting range: 2021-05-30 07:44:05.889639-2021-05-30 12:44:05.889639, data length: 255877"
     ]
    },
    {
     "name": "stderr",
     "output_type": "stream",
     "text": [
      "/opt/homebrew/anaconda3/envs/quant/lib/python3.9/site-packages/cryptography/hazmat/backends/openssl/x509.py:14: CryptographyDeprecationWarning: This version of cryptography contains a temporary pyOpenSSL fallback path. Upgrade pyOpenSSL now.\n",
      "  warnings.warn(\n"
     ]
    },
    {
     "name": "stdout",
     "output_type": "stream",
     "text": [
      "Acquiring 40 / 161g range: 2022-04-15 07:44:05.889639-2022-04-15 12:44:05.889639, data length: 682828\n",
      "MATIC-USD :Collecting range: 2021-03-10 01:44:05.889639-2021-03-10 06:44:05.889639, data length: 175"
     ]
    },
    {
     "name": "stderr",
     "output_type": "stream",
     "text": [
      "/opt/homebrew/anaconda3/envs/quant/lib/python3.9/site-packages/cryptography/hazmat/backends/openssl/x509.py:14: CryptographyDeprecationWarning: This version of cryptography contains a temporary pyOpenSSL fallback path. Upgrade pyOpenSSL now.\n",
      "  warnings.warn(\n"
     ]
    },
    {
     "name": "stdout",
     "output_type": "stream",
     "text": [
      "Acquiring 41 / 161ing range: 2022-04-15 07:44:05.889639-2022-04-15 12:44:05.889639, data length: 507773\n",
      "RAD-USD :Collecting range: 2020-12-19 00:44:05.889639-2020-12-19 05:44:05.889639, data length: 10"
     ]
    },
    {
     "name": "stderr",
     "output_type": "stream",
     "text": [
      "/opt/homebrew/anaconda3/envs/quant/lib/python3.9/site-packages/cryptography/hazmat/backends/openssl/x509.py:14: CryptographyDeprecationWarning: This version of cryptography contains a temporary pyOpenSSL fallback path. Upgrade pyOpenSSL now.\n",
      "  warnings.warn(\n"
     ]
    },
    {
     "name": "stdout",
     "output_type": "stream",
     "text": [
      "Acquiring 42 / 161g range: 2022-04-15 07:44:05.889639-2022-04-15 12:44:05.889639, data length: 96084\n",
      "ZEN-USD :Collecting range: 2021-04-25 02:44:05.889639-2021-04-25 07:44:05.889639, data length: 284"
     ]
    },
    {
     "name": "stderr",
     "output_type": "stream",
     "text": [
      "/opt/homebrew/anaconda3/envs/quant/lib/python3.9/site-packages/cryptography/hazmat/backends/openssl/x509.py:14: CryptographyDeprecationWarning: This version of cryptography contains a temporary pyOpenSSL fallback path. Upgrade pyOpenSSL now.\n",
      "  warnings.warn(\n"
     ]
    },
    {
     "name": "stdout",
     "output_type": "stream",
     "text": [
      "ZEN-USD :Collecting range: 2021-08-04 23:44:05.889639-2021-08-05 04:44:05.889639, data length: 502Exception: sleep for 5\n",
      "Acquiring 43 / 161g range: 2022-04-15 07:44:05.889639-2022-04-15 12:44:05.889639, data length: 94371\n",
      "SYN-USD :Collecting range: 2021-05-15 22:44:05.889639-2021-05-16 03:44:05.889639, data length: 318"
     ]
    },
    {
     "name": "stderr",
     "output_type": "stream",
     "text": [
      "/opt/homebrew/anaconda3/envs/quant/lib/python3.9/site-packages/cryptography/hazmat/backends/openssl/x509.py:14: CryptographyDeprecationWarning: This version of cryptography contains a temporary pyOpenSSL fallback path. Upgrade pyOpenSSL now.\n",
      "  warnings.warn(\n"
     ]
    },
    {
     "name": "stdout",
     "output_type": "stream",
     "text": [
      "Acquiring 44 / 161g range: 2022-04-15 07:44:05.889639-2022-04-15 12:44:05.889639, data length: 16321\n",
      "UMA-USD :Collecting range: 2021-02-23 21:44:05.889639-2021-02-24 02:44:05.889639, data length: 70449"
     ]
    },
    {
     "name": "stderr",
     "output_type": "stream",
     "text": [
      "/opt/homebrew/anaconda3/envs/quant/lib/python3.9/site-packages/cryptography/hazmat/backends/openssl/x509.py:14: CryptographyDeprecationWarning: This version of cryptography contains a temporary pyOpenSSL fallback path. Upgrade pyOpenSSL now.\n",
      "  warnings.warn(\n"
     ]
    },
    {
     "name": "stdout",
     "output_type": "stream",
     "text": [
      "Acquiring 45 / 161g range: 2022-04-15 07:44:05.889639-2022-04-15 12:44:05.889639, data length: 426340\n",
      "REN-USD :Collecting range: 2020-12-04 15:44:05.889639-2020-12-04 20:44:05.889639, data length: 1251"
     ]
    },
    {
     "name": "stderr",
     "output_type": "stream",
     "text": [
      "/opt/homebrew/anaconda3/envs/quant/lib/python3.9/site-packages/cryptography/hazmat/backends/openssl/x509.py:14: CryptographyDeprecationWarning: This version of cryptography contains a temporary pyOpenSSL fallback path. Upgrade pyOpenSSL now.\n",
      "  warnings.warn(\n"
     ]
    },
    {
     "name": "stdout",
     "output_type": "stream",
     "text": [
      "REN-USD :Collecting range: 2021-10-27 17:44:05.889639-2021-10-27 22:44:05.889639, data length: 376451Exception: sleep for 5\n",
      "Acquiring 46 / 161g range: 2022-04-15 07:44:05.889639-2022-04-15 12:44:05.889639, data length: 556365\n",
      "SNX-USD :Collecting range: 2021-01-11 08:44:05.889639-2021-01-11 13:44:05.889639, data length: 31584"
     ]
    },
    {
     "name": "stderr",
     "output_type": "stream",
     "text": [
      "/opt/homebrew/anaconda3/envs/quant/lib/python3.9/site-packages/cryptography/hazmat/backends/openssl/x509.py:14: CryptographyDeprecationWarning: This version of cryptography contains a temporary pyOpenSSL fallback path. Upgrade pyOpenSSL now.\n",
      "  warnings.warn(\n"
     ]
    },
    {
     "name": "stdout",
     "output_type": "stream",
     "text": [
      "Acquiring 47 / 161g range: 2022-04-15 07:44:05.889639-2022-04-15 12:44:05.889639, data length: 552703\n",
      "HIGH-USD :Collecting range: 2021-05-18 10:44:05.889639-2021-05-18 15:44:05.889639, data length: 327"
     ]
    },
    {
     "name": "stderr",
     "output_type": "stream",
     "text": [
      "/opt/homebrew/anaconda3/envs/quant/lib/python3.9/site-packages/cryptography/hazmat/backends/openssl/x509.py:14: CryptographyDeprecationWarning: This version of cryptography contains a temporary pyOpenSSL fallback path. Upgrade pyOpenSSL now.\n",
      "  warnings.warn(\n"
     ]
    },
    {
     "name": "stdout",
     "output_type": "stream",
     "text": [
      "Acquiring 48 / 161ng range: 2022-04-15 07:44:05.889639-2022-04-15 12:44:05.889639, data length: 22703\n",
      "XTZ-USD :Collecting range: 2021-02-26 04:44:05.889639-2021-02-26 09:44:05.889639, data length: 119116"
     ]
    },
    {
     "name": "stderr",
     "output_type": "stream",
     "text": [
      "/opt/homebrew/anaconda3/envs/quant/lib/python3.9/site-packages/cryptography/hazmat/backends/openssl/x509.py:14: CryptographyDeprecationWarning: This version of cryptography contains a temporary pyOpenSSL fallback path. Upgrade pyOpenSSL now.\n",
      "  warnings.warn(\n"
     ]
    },
    {
     "name": "stdout",
     "output_type": "stream",
     "text": [
      "Acquiring 49 / 161g range: 2022-04-15 07:44:05.889639-2022-04-15 12:44:05.889639, data length: 681981\n",
      "MLN-USD :Collecting range: 2020-12-06 22:44:05.889639-2020-12-07 03:44:05.889639, data length: 0"
     ]
    },
    {
     "name": "stderr",
     "output_type": "stream",
     "text": [
      "/opt/homebrew/anaconda3/envs/quant/lib/python3.9/site-packages/cryptography/hazmat/backends/openssl/x509.py:14: CryptographyDeprecationWarning: This version of cryptography contains a temporary pyOpenSSL fallback path. Upgrade pyOpenSSL now.\n",
      "  warnings.warn(\n"
     ]
    },
    {
     "name": "stdout",
     "output_type": "stream",
     "text": [
      "Acquiring 50 / 161g range: 2022-04-15 07:44:05.889639-2022-04-15 12:44:05.889639, data length: 260974\n",
      "RAI-USD :Collecting range: 2021-04-13 05:44:05.889639-2021-04-13 10:44:05.889639, data length: 0"
     ]
    },
    {
     "name": "stderr",
     "output_type": "stream",
     "text": [
      "/opt/homebrew/anaconda3/envs/quant/lib/python3.9/site-packages/cryptography/hazmat/backends/openssl/x509.py:14: CryptographyDeprecationWarning: This version of cryptography contains a temporary pyOpenSSL fallback path. Upgrade pyOpenSSL now.\n",
      "  warnings.warn(\n"
     ]
    },
    {
     "name": "stdout",
     "output_type": "stream",
     "text": [
      "Acquiring 51 / 161g range: 2022-04-15 07:44:05.889639-2022-04-15 12:44:05.889639, data length: 26451\n",
      "YFI-USD :Collecting range: 2021-01-21 18:44:05.889639-2021-01-21 23:44:05.889639, data length: 68104"
     ]
    },
    {
     "name": "stderr",
     "output_type": "stream",
     "text": [
      "/opt/homebrew/anaconda3/envs/quant/lib/python3.9/site-packages/cryptography/hazmat/backends/openssl/x509.py:14: CryptographyDeprecationWarning: This version of cryptography contains a temporary pyOpenSSL fallback path. Upgrade pyOpenSSL now.\n",
      "  warnings.warn(\n"
     ]
    },
    {
     "name": "stdout",
     "output_type": "stream",
     "text": [
      "Acquiring 52 / 161g range: 2022-04-15 07:44:05.889639-2022-04-15 12:44:05.889639, data length: 598833\n",
      "ENJ-USD :Collecting range: 2021-05-29 01:44:05.889639-2021-05-29 06:44:05.889639, data length: 62501"
     ]
    },
    {
     "name": "stderr",
     "output_type": "stream",
     "text": [
      "/opt/homebrew/anaconda3/envs/quant/lib/python3.9/site-packages/cryptography/hazmat/backends/openssl/x509.py:14: CryptographyDeprecationWarning: This version of cryptography contains a temporary pyOpenSSL fallback path. Upgrade pyOpenSSL now.\n",
      "  warnings.warn(\n"
     ]
    },
    {
     "name": "stdout",
     "output_type": "stream",
     "text": [
      "Acquiring 53 / 161g range: 2022-04-15 07:44:05.889639-2022-04-15 12:44:05.889639, data length: 430060\n",
      "CRPT-USD :Collecting range: 2021-03-08 19:44:05.889639-2021-03-09 00:44:05.889639, data length: 0"
     ]
    },
    {
     "name": "stderr",
     "output_type": "stream",
     "text": [
      "/opt/homebrew/anaconda3/envs/quant/lib/python3.9/site-packages/cryptography/hazmat/backends/openssl/x509.py:14: CryptographyDeprecationWarning: This version of cryptography contains a temporary pyOpenSSL fallback path. Upgrade pyOpenSSL now.\n",
      "  warnings.warn(\n"
     ]
    },
    {
     "name": "stdout",
     "output_type": "stream",
     "text": [
      "Acquiring 54 / 161ng range: 2022-04-15 07:44:05.889639-2022-04-15 12:44:05.889639, data length: 21281\n",
      "RBN-USD :Collecting range: 2020-12-17 08:44:05.889639-2020-12-17 13:44:05.889639, data length: 7"
     ]
    },
    {
     "name": "stderr",
     "output_type": "stream",
     "text": [
      "/opt/homebrew/anaconda3/envs/quant/lib/python3.9/site-packages/cryptography/hazmat/backends/openssl/x509.py:14: CryptographyDeprecationWarning: This version of cryptography contains a temporary pyOpenSSL fallback path. Upgrade pyOpenSSL now.\n",
      "  warnings.warn(\n"
     ]
    },
    {
     "name": "stdout",
     "output_type": "stream",
     "text": [
      "Acquiring 55 / 161g range: 2022-04-15 07:44:05.889639-2022-04-15 12:44:05.889639, data length: 89734\n",
      "LPT-USD :Collecting range: 2021-04-23 10:44:05.889639-2021-04-23 15:44:05.889639, data length: 278"
     ]
    },
    {
     "name": "stderr",
     "output_type": "stream",
     "text": [
      "/opt/homebrew/anaconda3/envs/quant/lib/python3.9/site-packages/cryptography/hazmat/backends/openssl/x509.py:14: CryptographyDeprecationWarning: This version of cryptography contains a temporary pyOpenSSL fallback path. Upgrade pyOpenSSL now.\n",
      "  warnings.warn(\n"
     ]
    },
    {
     "name": "stdout",
     "output_type": "stream",
     "text": [
      "Acquiring 56 / 161g range: 2022-04-15 07:44:05.889639-2022-04-15 12:44:05.889639, data length: 166261\n",
      "MDT-USD :Collecting range: 2021-02-01 04:44:05.889639-2021-02-01 09:44:05.889639, data length: 106"
     ]
    },
    {
     "name": "stderr",
     "output_type": "stream",
     "text": [
      "/opt/homebrew/anaconda3/envs/quant/lib/python3.9/site-packages/cryptography/hazmat/backends/openssl/x509.py:14: CryptographyDeprecationWarning: This version of cryptography contains a temporary pyOpenSSL fallback path. Upgrade pyOpenSSL now.\n",
      "  warnings.warn(\n"
     ]
    },
    {
     "name": "stdout",
     "output_type": "stream",
     "text": [
      "Acquiring 57 / 161g range: 2022-04-15 07:44:05.889639-2022-04-15 12:44:05.889639, data length: 100746\n",
      "AVT-USD :Collecting range: 2021-06-08 11:44:05.889639-2021-06-08 16:44:05.889639, data length: 370"
     ]
    },
    {
     "name": "stderr",
     "output_type": "stream",
     "text": [
      "/opt/homebrew/anaconda3/envs/quant/lib/python3.9/site-packages/cryptography/hazmat/backends/openssl/x509.py:14: CryptographyDeprecationWarning: This version of cryptography contains a temporary pyOpenSSL fallback path. Upgrade pyOpenSSL now.\n",
      "  warnings.warn(\n"
     ]
    },
    {
     "name": "stdout",
     "output_type": "stream",
     "text": [
      "Acquiring 58 / 161g range: 2022-04-15 07:44:05.889639-2022-04-15 12:44:05.889639, data length: 25419\n",
      "MANA-USD :Collecting range: 2021-03-19 05:44:05.889639-2021-03-19 10:44:05.889639, data length: 198"
     ]
    },
    {
     "name": "stderr",
     "output_type": "stream",
     "text": [
      "/opt/homebrew/anaconda3/envs/quant/lib/python3.9/site-packages/cryptography/hazmat/backends/openssl/x509.py:14: CryptographyDeprecationWarning: This version of cryptography contains a temporary pyOpenSSL fallback path. Upgrade pyOpenSSL now.\n",
      "  warnings.warn(\n"
     ]
    },
    {
     "name": "stdout",
     "output_type": "stream",
     "text": [
      "Acquiring 59 / 161ng range: 2022-04-15 07:44:05.889639-2022-04-15 12:44:05.889639, data length: 468741\n",
      "ORN-USD :Collecting range: 2020-12-27 18:44:05.889639-2020-12-27 23:44:05.889639, data length: 31"
     ]
    },
    {
     "name": "stderr",
     "output_type": "stream",
     "text": [
      "/opt/homebrew/anaconda3/envs/quant/lib/python3.9/site-packages/cryptography/hazmat/backends/openssl/x509.py:14: CryptographyDeprecationWarning: This version of cryptography contains a temporary pyOpenSSL fallback path. Upgrade pyOpenSSL now.\n",
      "  warnings.warn(\n"
     ]
    },
    {
     "name": "stdout",
     "output_type": "stream",
     "text": [
      "Acquiring 60 / 161g range: 2022-04-15 07:44:05.889639-2022-04-15 12:44:05.889639, data length: 92746\n",
      "GYEN-USD :Collecting range: 2021-05-03 20:44:05.889639-2021-05-04 01:44:05.889639, data length: 311"
     ]
    },
    {
     "name": "stderr",
     "output_type": "stream",
     "text": [
      "/opt/homebrew/anaconda3/envs/quant/lib/python3.9/site-packages/cryptography/hazmat/backends/openssl/x509.py:14: CryptographyDeprecationWarning: This version of cryptography contains a temporary pyOpenSSL fallback path. Upgrade pyOpenSSL now.\n",
      "  warnings.warn(\n"
     ]
    },
    {
     "name": "stdout",
     "output_type": "stream",
     "text": [
      "Acquiring 61 / 161ng range: 2022-04-15 07:44:05.889639-2022-04-15 12:44:05.889639, data length: 108655\n",
      "1INCH-USD :Collecting range: 2021-02-11 14:44:05.889639-2021-02-11 19:44:05.889639, data length: 7"
     ]
    },
    {
     "name": "stderr",
     "output_type": "stream",
     "text": [
      "/opt/homebrew/anaconda3/envs/quant/lib/python3.9/site-packages/cryptography/hazmat/backends/openssl/x509.py:14: CryptographyDeprecationWarning: This version of cryptography contains a temporary pyOpenSSL fallback path. Upgrade pyOpenSSL now.\n",
      "  warnings.warn(\n"
     ]
    },
    {
     "name": "stdout",
     "output_type": "stream",
     "text": [
      "Acquiring 62 / 161ing range: 2022-04-15 07:44:05.889639-2022-04-15 12:44:05.889639, data length: 291559\n",
      "AIOZ-USD :Collecting range: 2021-06-18 16:44:05.889639-2021-06-18 21:44:05.889639, data length: 404"
     ]
    },
    {
     "name": "stderr",
     "output_type": "stream",
     "text": [
      "/opt/homebrew/anaconda3/envs/quant/lib/python3.9/site-packages/cryptography/hazmat/backends/openssl/x509.py:14: CryptographyDeprecationWarning: This version of cryptography contains a temporary pyOpenSSL fallback path. Upgrade pyOpenSSL now.\n",
      "  warnings.warn(\n"
     ]
    },
    {
     "name": "stdout",
     "output_type": "stream",
     "text": [
      "Acquiring 63 / 161ng range: 2022-04-15 07:44:05.889639-2022-04-15 12:44:05.889639, data length: 23033\n",
      "APE-USD :Collecting range: 2021-03-29 10:44:05.889639-2021-03-29 15:44:05.889639, data length: 228"
     ]
    },
    {
     "name": "stderr",
     "output_type": "stream",
     "text": [
      "/opt/homebrew/anaconda3/envs/quant/lib/python3.9/site-packages/cryptography/hazmat/backends/openssl/x509.py:14: CryptographyDeprecationWarning: This version of cryptography contains a temporary pyOpenSSL fallback path. Upgrade pyOpenSSL now.\n",
      "  warnings.warn(\n"
     ]
    },
    {
     "name": "stdout",
     "output_type": "stream",
     "text": [
      "Acquiring 64 / 161g range: 2022-04-15 07:44:05.889639-2022-04-15 12:44:05.889639, data length: 42190\n",
      "ZEC-USD :Collecting range: 2021-01-07 09:44:05.889639-2021-01-07 14:44:05.889639, data length: 26456"
     ]
    },
    {
     "name": "stderr",
     "output_type": "stream",
     "text": [
      "/opt/homebrew/anaconda3/envs/quant/lib/python3.9/site-packages/cryptography/hazmat/backends/openssl/x509.py:14: CryptographyDeprecationWarning: This version of cryptography contains a temporary pyOpenSSL fallback path. Upgrade pyOpenSSL now.\n",
      "  warnings.warn(\n"
     ]
    },
    {
     "name": "stdout",
     "output_type": "stream",
     "text": [
      "ZEC-USD :Collecting range: 2021-12-12 08:44:05.889639-2021-12-12 13:44:05.889639, data length: 352185Exception: sleep for 5\n",
      "Acquiring 65 / 161g range: 2022-04-15 07:44:05.889639-2022-04-15 12:44:05.889639, data length: 497997\n",
      "SNT-USD :Collecting range: 2021-02-25 23:44:05.889639-2021-02-26 04:44:05.889639, data length: 0"
     ]
    },
    {
     "name": "stderr",
     "output_type": "stream",
     "text": [
      "/opt/homebrew/anaconda3/envs/quant/lib/python3.9/site-packages/cryptography/hazmat/backends/openssl/x509.py:14: CryptographyDeprecationWarning: This version of cryptography contains a temporary pyOpenSSL fallback path. Upgrade pyOpenSSL now.\n",
      "  warnings.warn(\n"
     ]
    },
    {
     "name": "stdout",
     "output_type": "stream",
     "text": [
      "Acquiring 66 / 161g range: 2022-04-15 07:44:05.889639-2022-04-15 12:44:05.889639, data length: 18807\n",
      "CVC-USD :Collecting range: 2020-12-06 17:44:05.889639-2020-12-06 22:44:05.889639, data length: 0"
     ]
    },
    {
     "name": "stderr",
     "output_type": "stream",
     "text": [
      "/opt/homebrew/anaconda3/envs/quant/lib/python3.9/site-packages/cryptography/hazmat/backends/openssl/x509.py:14: CryptographyDeprecationWarning: This version of cryptography contains a temporary pyOpenSSL fallback path. Upgrade pyOpenSSL now.\n",
      "  warnings.warn(\n"
     ]
    },
    {
     "name": "stdout",
     "output_type": "stream",
     "text": [
      "Acquiring 67 / 161g range: 2022-04-15 07:44:05.889639-2022-04-15 12:44:05.889639, data length: 84703\n",
      "VGX-USD :Collecting range: 2021-04-12 19:44:05.889639-2021-04-13 00:44:05.889639, data length: 202"
     ]
    },
    {
     "name": "stderr",
     "output_type": "stream",
     "text": [
      "/opt/homebrew/anaconda3/envs/quant/lib/python3.9/site-packages/cryptography/hazmat/backends/openssl/x509.py:14: CryptographyDeprecationWarning: This version of cryptography contains a temporary pyOpenSSL fallback path. Upgrade pyOpenSSL now.\n",
      "  warnings.warn(\n"
     ]
    },
    {
     "name": "stdout",
     "output_type": "stream",
     "text": [
      "Acquiring 68 / 161g range: 2022-04-15 07:44:05.889639-2022-04-15 12:44:05.889639, data length: 96481\n",
      "LCX-USD :Collecting range: 2021-01-21 13:44:05.889639-2021-01-21 18:44:05.889639, data length: 81"
     ]
    },
    {
     "name": "stderr",
     "output_type": "stream",
     "text": [
      "/opt/homebrew/anaconda3/envs/quant/lib/python3.9/site-packages/cryptography/hazmat/backends/openssl/x509.py:14: CryptographyDeprecationWarning: This version of cryptography contains a temporary pyOpenSSL fallback path. Upgrade pyOpenSSL now.\n",
      "  warnings.warn(\n"
     ]
    },
    {
     "name": "stdout",
     "output_type": "stream",
     "text": [
      "Acquiring 69 / 161g range: 2022-04-15 07:44:05.889639-2022-04-15 12:44:05.889639, data length: 116819\n",
      "AAVE-USD :Collecting range: 2021-05-28 15:44:05.889639-2021-05-28 20:44:05.889639, data length: 214841"
     ]
    },
    {
     "name": "stderr",
     "output_type": "stream",
     "text": [
      "/opt/homebrew/anaconda3/envs/quant/lib/python3.9/site-packages/cryptography/hazmat/backends/openssl/x509.py:14: CryptographyDeprecationWarning: This version of cryptography contains a temporary pyOpenSSL fallback path. Upgrade pyOpenSSL now.\n",
      "  warnings.warn(\n"
     ]
    },
    {
     "name": "stdout",
     "output_type": "stream",
     "text": [
      "Acquiring 70 / 161ng range: 2022-04-15 07:44:05.889639-2022-04-15 12:44:05.889639, data length: 596895\n",
      "TRAC-USD :Collecting range: 2021-03-08 09:44:05.889639-2021-03-08 14:44:05.889639, data length: 174"
     ]
    },
    {
     "name": "stderr",
     "output_type": "stream",
     "text": [
      "/opt/homebrew/anaconda3/envs/quant/lib/python3.9/site-packages/cryptography/hazmat/backends/openssl/x509.py:14: CryptographyDeprecationWarning: This version of cryptography contains a temporary pyOpenSSL fallback path. Upgrade pyOpenSSL now.\n",
      "  warnings.warn(\n"
     ]
    },
    {
     "name": "stdout",
     "output_type": "stream",
     "text": [
      "Acquiring 71 / 161ng range: 2022-04-15 07:44:05.889639-2022-04-15 12:44:05.889639, data length: 113646\n",
      "POWR-USD :Collecting range: 2020-12-17 03:44:05.889639-2020-12-17 08:44:05.889639, data length: 8"
     ]
    },
    {
     "name": "stderr",
     "output_type": "stream",
     "text": [
      "/opt/homebrew/anaconda3/envs/quant/lib/python3.9/site-packages/cryptography/hazmat/backends/openssl/x509.py:14: CryptographyDeprecationWarning: This version of cryptography contains a temporary pyOpenSSL fallback path. Upgrade pyOpenSSL now.\n",
      "  warnings.warn(\n"
     ]
    },
    {
     "name": "stdout",
     "output_type": "stream",
     "text": [
      "POWR-USD :Collecting range: 2021-04-27 04:44:05.889639-2021-04-27 09:44:05.889639, data length: 275Exception: sleep for 5\n",
      "POWR-USD :Collecting range: 2022-02-05 23:44:05.889639-2022-02-06 04:44:05.889639, data length: 47571Exception: sleep for 5\n",
      "Acquiring 72 / 161ng range: 2022-04-15 07:44:05.889639-2022-04-15 12:44:05.889639, data length: 72995\n",
      "FOX-USD :Collecting range: 2021-04-22 14:44:05.889639-2021-04-22 19:44:05.889639, data length: 262"
     ]
    },
    {
     "name": "stderr",
     "output_type": "stream",
     "text": [
      "/opt/homebrew/anaconda3/envs/quant/lib/python3.9/site-packages/cryptography/hazmat/backends/openssl/x509.py:14: CryptographyDeprecationWarning: This version of cryptography contains a temporary pyOpenSSL fallback path. Upgrade pyOpenSSL now.\n",
      "  warnings.warn(\n"
     ]
    },
    {
     "name": "stdout",
     "output_type": "stream",
     "text": [
      "Acquiring 73 / 161g range: 2022-04-15 07:44:05.889639-2022-04-15 12:44:05.889639, data length: 48472\n",
      "DOT-USD :Collecting range: 2021-01-31 08:44:05.889639-2021-01-31 13:44:05.889639, data length: 97"
     ]
    },
    {
     "name": "stderr",
     "output_type": "stream",
     "text": [
      "/opt/homebrew/anaconda3/envs/quant/lib/python3.9/site-packages/cryptography/hazmat/backends/openssl/x509.py:14: CryptographyDeprecationWarning: This version of cryptography contains a temporary pyOpenSSL fallback path. Upgrade pyOpenSSL now.\n",
      "  warnings.warn(\n"
     ]
    },
    {
     "name": "stdout",
     "output_type": "stream",
     "text": [
      "Acquiring 74 / 161g range: 2022-04-15 07:44:05.889639-2022-04-15 12:44:05.889639, data length: 425635\n",
      "XYO-USD :Collecting range: 2021-06-07 10:44:05.889639-2021-06-07 15:44:05.889639, data length: 365"
     ]
    },
    {
     "name": "stderr",
     "output_type": "stream",
     "text": [
      "/opt/homebrew/anaconda3/envs/quant/lib/python3.9/site-packages/cryptography/hazmat/backends/openssl/x509.py:14: CryptographyDeprecationWarning: This version of cryptography contains a temporary pyOpenSSL fallback path. Upgrade pyOpenSSL now.\n",
      "  warnings.warn(\n"
     ]
    },
    {
     "name": "stdout",
     "output_type": "stream",
     "text": [
      "Acquiring 75 / 161g range: 2022-04-15 07:44:05.889639-2022-04-15 12:44:05.889639, data length: 269492\n",
      "CTX-USD :Collecting range: 2021-03-18 04:44:05.889639-2021-03-18 09:44:05.889639, data length: 212"
     ]
    },
    {
     "name": "stderr",
     "output_type": "stream",
     "text": [
      "/opt/homebrew/anaconda3/envs/quant/lib/python3.9/site-packages/cryptography/hazmat/backends/openssl/x509.py:14: CryptographyDeprecationWarning: This version of cryptography contains a temporary pyOpenSSL fallback path. Upgrade pyOpenSSL now.\n",
      "  warnings.warn(\n"
     ]
    },
    {
     "name": "stdout",
     "output_type": "stream",
     "text": [
      "Acquiring 76 / 161g range: 2022-04-15 07:44:05.889639-2022-04-15 12:44:05.889639, data length: 60987\n",
      "ARPA-USD :Collecting range: 2020-12-27 03:44:05.889639-2020-12-27 08:44:05.889639, data length: 0"
     ]
    },
    {
     "name": "stderr",
     "output_type": "stream",
     "text": [
      "/opt/homebrew/anaconda3/envs/quant/lib/python3.9/site-packages/cryptography/hazmat/backends/openssl/x509.py:14: CryptographyDeprecationWarning: This version of cryptography contains a temporary pyOpenSSL fallback path. Upgrade pyOpenSSL now.\n",
      "  warnings.warn(\n"
     ]
    },
    {
     "name": "stdout",
     "output_type": "stream",
     "text": [
      "Acquiring 77 / 161ng range: 2022-04-15 07:44:05.889639-2022-04-15 12:44:05.889639, data length: 124914\n",
      "UNI-USD :Collecting range: 2021-05-03 00:44:05.889639-2021-05-03 05:44:05.889639, data length: 196739"
     ]
    },
    {
     "name": "stderr",
     "output_type": "stream",
     "text": [
      "/opt/homebrew/anaconda3/envs/quant/lib/python3.9/site-packages/cryptography/hazmat/backends/openssl/x509.py:14: CryptographyDeprecationWarning: This version of cryptography contains a temporary pyOpenSSL fallback path. Upgrade pyOpenSSL now.\n",
      "  warnings.warn(\n"
     ]
    },
    {
     "name": "stdout",
     "output_type": "stream",
     "text": [
      "Acquiring 78 / 161g range: 2022-04-15 07:44:05.889639-2022-04-15 12:44:05.889639, data length: 629550\n",
      "GRT-USD :Collecting range: 2021-02-10 18:44:05.889639-2021-02-10 23:44:05.889639, data length: 75050"
     ]
    },
    {
     "name": "stderr",
     "output_type": "stream",
     "text": [
      "/opt/homebrew/anaconda3/envs/quant/lib/python3.9/site-packages/cryptography/hazmat/backends/openssl/x509.py:14: CryptographyDeprecationWarning: This version of cryptography contains a temporary pyOpenSSL fallback path. Upgrade pyOpenSSL now.\n",
      "  warnings.warn(\n"
     ]
    },
    {
     "name": "stdout",
     "output_type": "stream",
     "text": [
      "Acquiring 79 / 161g range: 2022-04-15 07:44:05.889639-2022-04-15 12:44:05.889639, data length: 640655\n",
      "XLM-USD :Collecting range: 2021-06-18 01:44:05.889639-2021-06-18 06:44:05.889639, data length: 282871"
     ]
    },
    {
     "name": "stderr",
     "output_type": "stream",
     "text": [
      "/opt/homebrew/anaconda3/envs/quant/lib/python3.9/site-packages/cryptography/hazmat/backends/openssl/x509.py:14: CryptographyDeprecationWarning: This version of cryptography contains a temporary pyOpenSSL fallback path. Upgrade pyOpenSSL now.\n",
      "  warnings.warn(\n"
     ]
    },
    {
     "name": "stdout",
     "output_type": "stream",
     "text": [
      "Acquiring 80 / 161g range: 2022-04-15 07:44:05.889639-2022-04-15 12:44:05.889639, data length: 673154\n",
      "COVAL-USD :Collecting range: 2021-03-28 19:44:05.889639-2021-03-29 00:44:05.889639, data length: 230"
     ]
    },
    {
     "name": "stderr",
     "output_type": "stream",
     "text": [
      "/opt/homebrew/anaconda3/envs/quant/lib/python3.9/site-packages/cryptography/hazmat/backends/openssl/x509.py:14: CryptographyDeprecationWarning: This version of cryptography contains a temporary pyOpenSSL fallback path. Upgrade pyOpenSSL now.\n",
      "  warnings.warn(\n"
     ]
    },
    {
     "name": "stdout",
     "output_type": "stream",
     "text": [
      "Acquiring 81 / 161ing range: 2022-04-15 07:44:05.889639-2022-04-15 12:44:05.889639, data length: 98077\n",
      "ACH-USD :Collecting range: 2021-01-06 13:44:05.889639-2021-01-06 18:44:05.889639, data length: 52"
     ]
    },
    {
     "name": "stderr",
     "output_type": "stream",
     "text": [
      "/opt/homebrew/anaconda3/envs/quant/lib/python3.9/site-packages/cryptography/hazmat/backends/openssl/x509.py:14: CryptographyDeprecationWarning: This version of cryptography contains a temporary pyOpenSSL fallback path. Upgrade pyOpenSSL now.\n",
      "  warnings.warn(\n"
     ]
    },
    {
     "name": "stdout",
     "output_type": "stream",
     "text": [
      "Acquiring 82 / 161g range: 2022-04-15 07:44:05.889639-2022-04-15 12:44:05.889639, data length: 327113\n",
      "CRV-USD :Collecting range: 2021-05-13 15:44:05.889639-2021-05-13 20:44:05.889639, data length: 55164"
     ]
    },
    {
     "name": "stderr",
     "output_type": "stream",
     "text": [
      "/opt/homebrew/anaconda3/envs/quant/lib/python3.9/site-packages/cryptography/hazmat/backends/openssl/x509.py:14: CryptographyDeprecationWarning: This version of cryptography contains a temporary pyOpenSSL fallback path. Upgrade pyOpenSSL now.\n",
      "  warnings.warn(\n"
     ]
    },
    {
     "name": "stdout",
     "output_type": "stream",
     "text": [
      "Acquiring 83 / 161g range: 2022-04-15 07:44:05.889639-2022-04-15 12:44:05.889639, data length: 397897\n",
      "RLC-USD :Collecting range: 2021-02-21 04:44:05.889639-2021-02-21 09:44:05.889639, data length: 148"
     ]
    },
    {
     "name": "stderr",
     "output_type": "stream",
     "text": [
      "/opt/homebrew/anaconda3/envs/quant/lib/python3.9/site-packages/cryptography/hazmat/backends/openssl/x509.py:14: CryptographyDeprecationWarning: This version of cryptography contains a temporary pyOpenSSL fallback path. Upgrade pyOpenSSL now.\n",
      "  warnings.warn(\n"
     ]
    },
    {
     "name": "stdout",
     "output_type": "stream",
     "text": [
      "Acquiring 84 / 161g range: 2022-04-15 07:44:05.889639-2022-04-15 12:44:05.889639, data length: 266837\n",
      "PERP-USD :Collecting range: 2021-06-28 06:44:05.889639-2021-06-28 11:44:05.889639, data length: 411"
     ]
    },
    {
     "name": "stderr",
     "output_type": "stream",
     "text": [
      "/opt/homebrew/anaconda3/envs/quant/lib/python3.9/site-packages/cryptography/hazmat/backends/openssl/x509.py:14: CryptographyDeprecationWarning: This version of cryptography contains a temporary pyOpenSSL fallback path. Upgrade pyOpenSSL now.\n",
      "  warnings.warn(\n"
     ]
    },
    {
     "name": "stdout",
     "output_type": "stream",
     "text": [
      "Acquiring 85 / 161ng range: 2022-04-15 07:44:05.889639-2022-04-15 12:44:05.889639, data length: 74999\n",
      "FET-USD :Collecting range: 2021-04-08 05:44:05.889639-2021-04-08 10:44:05.889639, data length: 155"
     ]
    },
    {
     "name": "stderr",
     "output_type": "stream",
     "text": [
      "/opt/homebrew/anaconda3/envs/quant/lib/python3.9/site-packages/cryptography/hazmat/backends/openssl/x509.py:14: CryptographyDeprecationWarning: This version of cryptography contains a temporary pyOpenSSL fallback path. Upgrade pyOpenSSL now.\n",
      "  warnings.warn(\n"
     ]
    },
    {
     "name": "stdout",
     "output_type": "stream",
     "text": [
      "Acquiring 86 / 161g range: 2022-04-15 07:44:05.889639-2022-04-15 12:44:05.889639, data length: 349863\n",
      "LQTY-USD :Collecting range: 2021-01-16 23:44:05.889639-2021-01-17 04:44:05.889639, data length: 75"
     ]
    },
    {
     "name": "stderr",
     "output_type": "stream",
     "text": [
      "/opt/homebrew/anaconda3/envs/quant/lib/python3.9/site-packages/cryptography/hazmat/backends/openssl/x509.py:14: CryptographyDeprecationWarning: This version of cryptography contains a temporary pyOpenSSL fallback path. Upgrade pyOpenSSL now.\n",
      "  warnings.warn(\n"
     ]
    },
    {
     "name": "stdout",
     "output_type": "stream",
     "text": [
      "Acquiring 87 / 161ng range: 2022-04-15 07:44:05.889639-2022-04-15 12:44:05.889639, data length: 46815\n",
      "ERN-USD :Collecting range: 2021-05-24 01:44:05.889639-2021-05-24 06:44:05.889639, data length: 1"
     ]
    },
    {
     "name": "stderr",
     "output_type": "stream",
     "text": [
      "/opt/homebrew/anaconda3/envs/quant/lib/python3.9/site-packages/cryptography/hazmat/backends/openssl/x509.py:14: CryptographyDeprecationWarning: This version of cryptography contains a temporary pyOpenSSL fallback path. Upgrade pyOpenSSL now.\n",
      "  warnings.warn(\n"
     ]
    },
    {
     "name": "stdout",
     "output_type": "stream",
     "text": [
      "Acquiring 88 / 161g range: 2022-04-15 07:44:05.889639-2022-04-15 12:44:05.889639, data length: 9211\n",
      "RNDR-USD :Collecting range: 2021-03-03 14:44:05.889639-2021-03-03 19:44:05.889639, data length: 166"
     ]
    },
    {
     "name": "stderr",
     "output_type": "stream",
     "text": [
      "/opt/homebrew/anaconda3/envs/quant/lib/python3.9/site-packages/cryptography/hazmat/backends/openssl/x509.py:14: CryptographyDeprecationWarning: This version of cryptography contains a temporary pyOpenSSL fallback path. Upgrade pyOpenSSL now.\n",
      "  warnings.warn(\n"
     ]
    },
    {
     "name": "stdout",
     "output_type": "stream",
     "text": [
      "Acquiring 89 / 161ng range: 2022-04-15 07:44:05.889639-2022-04-15 12:44:05.889639, data length: 75252\n",
      "NMR-USD :Collecting range: 2020-12-12 13:44:05.889639-2020-12-12 18:44:05.889639, data length: 7386"
     ]
    },
    {
     "name": "stderr",
     "output_type": "stream",
     "text": [
      "/opt/homebrew/anaconda3/envs/quant/lib/python3.9/site-packages/cryptography/hazmat/backends/openssl/x509.py:14: CryptographyDeprecationWarning: This version of cryptography contains a temporary pyOpenSSL fallback path. Upgrade pyOpenSSL now.\n",
      "  warnings.warn(\n"
     ]
    },
    {
     "name": "stdout",
     "output_type": "stream",
     "text": [
      "Acquiring 90 / 161g range: 2022-04-15 07:44:05.889639-2022-04-15 12:44:05.889639, data length: 424567\n",
      "IMX-USD :Collecting range: 2021-04-18 10:44:05.889639-2021-04-18 15:44:05.889639, data length: 290"
     ]
    },
    {
     "name": "stderr",
     "output_type": "stream",
     "text": [
      "/opt/homebrew/anaconda3/envs/quant/lib/python3.9/site-packages/cryptography/hazmat/backends/openssl/x509.py:14: CryptographyDeprecationWarning: This version of cryptography contains a temporary pyOpenSSL fallback path. Upgrade pyOpenSSL now.\n",
      "  warnings.warn(\n"
     ]
    },
    {
     "name": "stdout",
     "output_type": "stream",
     "text": [
      "Acquiring 91 / 161g range: 2022-04-15 07:44:05.889639-2022-04-15 12:44:05.889639, data length: 105156\n",
      "LRC-USD :Collecting range: 2021-01-27 04:44:05.889639-2021-01-27 09:44:05.889639, data length: 56889"
     ]
    },
    {
     "name": "stderr",
     "output_type": "stream",
     "text": [
      "/opt/homebrew/anaconda3/envs/quant/lib/python3.9/site-packages/cryptography/hazmat/backends/openssl/x509.py:14: CryptographyDeprecationWarning: This version of cryptography contains a temporary pyOpenSSL fallback path. Upgrade pyOpenSSL now.\n",
      "  warnings.warn(\n"
     ]
    },
    {
     "name": "stdout",
     "output_type": "stream",
     "text": [
      "Acquiring 92 / 161g range: 2022-04-15 07:44:05.889639-2022-04-15 12:44:05.889639, data length: 642567\n",
      "RLY-USD :Collecting range: 2021-06-03 11:44:05.889639-2021-06-03 16:44:05.889639, data length: 382"
     ]
    },
    {
     "name": "stderr",
     "output_type": "stream",
     "text": [
      "/opt/homebrew/anaconda3/envs/quant/lib/python3.9/site-packages/cryptography/hazmat/backends/openssl/x509.py:14: CryptographyDeprecationWarning: This version of cryptography contains a temporary pyOpenSSL fallback path. Upgrade pyOpenSSL now.\n",
      "  warnings.warn(\n"
     ]
    },
    {
     "name": "stdout",
     "output_type": "stream",
     "text": [
      "Acquiring 93 / 161g range: 2022-04-15 07:44:05.889639-2022-04-15 12:44:05.889639, data length: 217714\n",
      "CRO-USD :Collecting range: 2021-03-14 05:44:05.889639-2021-03-14 10:44:05.889639, data length: 190"
     ]
    },
    {
     "name": "stderr",
     "output_type": "stream",
     "text": [
      "/opt/homebrew/anaconda3/envs/quant/lib/python3.9/site-packages/cryptography/hazmat/backends/openssl/x509.py:14: CryptographyDeprecationWarning: This version of cryptography contains a temporary pyOpenSSL fallback path. Upgrade pyOpenSSL now.\n",
      "  warnings.warn(\n"
     ]
    },
    {
     "name": "stdout",
     "output_type": "stream",
     "text": [
      "Acquiring 94 / 161g range: 2022-04-15 07:44:05.889639-2022-04-15 12:44:05.889639, data length: 234372\n",
      "SPELL-USD :Collecting range: 2020-12-22 18:44:05.889639-2020-12-22 23:44:05.889639, data length: 7"
     ]
    },
    {
     "name": "stderr",
     "output_type": "stream",
     "text": [
      "/opt/homebrew/anaconda3/envs/quant/lib/python3.9/site-packages/cryptography/hazmat/backends/openssl/x509.py:14: CryptographyDeprecationWarning: This version of cryptography contains a temporary pyOpenSSL fallback path. Upgrade pyOpenSSL now.\n",
      "  warnings.warn(\n"
     ]
    },
    {
     "name": "stdout",
     "output_type": "stream",
     "text": [
      "Acquiring 95 / 161ing range: 2022-04-15 07:44:05.889639-2022-04-15 12:44:05.889639, data length: 152431\n",
      "TRB-USD :Collecting range: 2021-04-28 20:44:05.889639-2021-04-29 01:44:05.889639, data length: 301"
     ]
    },
    {
     "name": "stderr",
     "output_type": "stream",
     "text": [
      "/opt/homebrew/anaconda3/envs/quant/lib/python3.9/site-packages/cryptography/hazmat/backends/openssl/x509.py:14: CryptographyDeprecationWarning: This version of cryptography contains a temporary pyOpenSSL fallback path. Upgrade pyOpenSSL now.\n",
      "  warnings.warn(\n"
     ]
    },
    {
     "name": "stdout",
     "output_type": "stream",
     "text": [
      "Acquiring 96 / 161g range: 2022-04-15 07:44:05.889639-2022-04-15 12:44:05.889639, data length: 182419\n",
      "ALICE-USD :Collecting range: 2021-02-06 19:44:05.889639-2021-02-07 00:44:05.889639, data length: 106"
     ]
    },
    {
     "name": "stderr",
     "output_type": "stream",
     "text": [
      "/opt/homebrew/anaconda3/envs/quant/lib/python3.9/site-packages/cryptography/hazmat/backends/openssl/x509.py:14: CryptographyDeprecationWarning: This version of cryptography contains a temporary pyOpenSSL fallback path. Upgrade pyOpenSSL now.\n",
      "  warnings.warn(\n"
     ]
    },
    {
     "name": "stdout",
     "output_type": "stream",
     "text": [
      "Acquiring 97 / 161ing range: 2022-04-15 07:44:05.889639-2022-04-15 12:44:05.889639, data length: 22288\n",
      "AVAX-USD :Collecting range: 2021-06-13 21:44:05.889639-2021-06-14 02:44:05.889639, data length: 380"
     ]
    },
    {
     "name": "stderr",
     "output_type": "stream",
     "text": [
      "/opt/homebrew/anaconda3/envs/quant/lib/python3.9/site-packages/cryptography/hazmat/backends/openssl/x509.py:14: CryptographyDeprecationWarning: This version of cryptography contains a temporary pyOpenSSL fallback path. Upgrade pyOpenSSL now.\n",
      "  warnings.warn(\n"
     ]
    },
    {
     "name": "stdout",
     "output_type": "stream",
     "text": [
      "Acquiring 98 / 161ng range: 2022-04-15 07:44:05.889639-2022-04-15 12:44:05.889639, data length: 250398\n",
      "TRIBE-USD :Collecting range: 2021-03-24 10:44:05.889639-2021-03-24 15:44:05.889639, data length: 221"
     ]
    },
    {
     "name": "stderr",
     "output_type": "stream",
     "text": [
      "/opt/homebrew/anaconda3/envs/quant/lib/python3.9/site-packages/cryptography/hazmat/backends/openssl/x509.py:14: CryptographyDeprecationWarning: This version of cryptography contains a temporary pyOpenSSL fallback path. Upgrade pyOpenSSL now.\n",
      "  warnings.warn(\n"
     ]
    },
    {
     "name": "stdout",
     "output_type": "stream",
     "text": [
      "Acquiring 99 / 161ing range: 2022-04-15 07:44:05.889639-2022-04-15 12:44:05.889639, data length: 87172\n",
      "IOTX-USD :Collecting range: 2021-01-02 09:44:05.889639-2021-01-02 14:44:05.889639, data length: 43"
     ]
    },
    {
     "name": "stderr",
     "output_type": "stream",
     "text": [
      "/opt/homebrew/anaconda3/envs/quant/lib/python3.9/site-packages/cryptography/hazmat/backends/openssl/x509.py:14: CryptographyDeprecationWarning: This version of cryptography contains a temporary pyOpenSSL fallback path. Upgrade pyOpenSSL now.\n",
      "  warnings.warn(\n"
     ]
    },
    {
     "name": "stdout",
     "output_type": "stream",
     "text": [
      "Acquiring 100 / 161g range: 2022-04-15 07:44:05.889639-2022-04-15 12:44:05.889639, data length: 316749\n",
      "BAT-USD :Collecting range: 2021-05-09 11:44:05.889639-2021-05-09 16:44:05.889639, data length: 24644"
     ]
    },
    {
     "name": "stderr",
     "output_type": "stream",
     "text": [
      "/opt/homebrew/anaconda3/envs/quant/lib/python3.9/site-packages/cryptography/hazmat/backends/openssl/x509.py:14: CryptographyDeprecationWarning: This version of cryptography contains a temporary pyOpenSSL fallback path. Upgrade pyOpenSSL now.\n",
      "  warnings.warn(\n"
     ]
    },
    {
     "name": "stdout",
     "output_type": "stream",
     "text": [
      "Acquiring 101 / 161 range: 2022-04-15 07:44:05.889639-2022-04-15 12:44:05.889639, data length: 329739\n",
      "IDEX-USD :Collecting range: 2021-02-17 05:44:05.889639-2021-02-17 10:44:05.889639, data length: 136"
     ]
    },
    {
     "name": "stderr",
     "output_type": "stream",
     "text": [
      "/opt/homebrew/anaconda3/envs/quant/lib/python3.9/site-packages/cryptography/hazmat/backends/openssl/x509.py:14: CryptographyDeprecationWarning: This version of cryptography contains a temporary pyOpenSSL fallback path. Upgrade pyOpenSSL now.\n",
      "  warnings.warn(\n"
     ]
    },
    {
     "name": "stdout",
     "output_type": "stream",
     "text": [
      "Acquiring 102 / 161g range: 2022-04-15 07:44:05.889639-2022-04-15 12:44:05.889639, data length: 58215\n",
      "LTC-USD :Collecting range: 2021-06-24 02:44:05.889639-2021-06-24 07:44:05.889639, data length: 291414"
     ]
    },
    {
     "name": "stderr",
     "output_type": "stream",
     "text": [
      "/opt/homebrew/anaconda3/envs/quant/lib/python3.9/site-packages/cryptography/hazmat/backends/openssl/x509.py:14: CryptographyDeprecationWarning: This version of cryptography contains a temporary pyOpenSSL fallback path. Upgrade pyOpenSSL now.\n",
      "  warnings.warn(\n"
     ]
    },
    {
     "name": "stdout",
     "output_type": "stream",
     "text": [
      "Acquiring 103 / 161 range: 2022-04-15 07:44:05.889639-2022-04-15 12:44:05.889639, data length: 687417\n",
      "BTC-USD :Collecting range: 2021-04-03 20:44:05.889639-2021-04-04 01:44:05.889639, data length: 169498"
     ]
    },
    {
     "name": "stderr",
     "output_type": "stream",
     "text": [
      "/opt/homebrew/anaconda3/envs/quant/lib/python3.9/site-packages/cryptography/hazmat/backends/openssl/x509.py:14: CryptographyDeprecationWarning: This version of cryptography contains a temporary pyOpenSSL fallback path. Upgrade pyOpenSSL now.\n",
      "  warnings.warn(\n"
     ]
    },
    {
     "name": "stdout",
     "output_type": "stream",
     "text": [
      "Acquiring 104 / 161 range: 2022-04-15 07:44:05.889639-2022-04-15 12:44:05.889639, data length: 664578\n",
      "ALCX-USD :Collecting range: 2021-01-12 14:44:05.889639-2021-01-12 19:44:05.889639, data length: 70"
     ]
    },
    {
     "name": "stderr",
     "output_type": "stream",
     "text": [
      "/opt/homebrew/anaconda3/envs/quant/lib/python3.9/site-packages/cryptography/hazmat/backends/openssl/x509.py:14: CryptographyDeprecationWarning: This version of cryptography contains a temporary pyOpenSSL fallback path. Upgrade pyOpenSSL now.\n",
      "  warnings.warn(\n"
     ]
    },
    {
     "name": "stdout",
     "output_type": "stream",
     "text": [
      "Acquiring 105 / 161g range: 2022-04-15 07:44:05.889639-2022-04-15 12:44:05.889639, data length: 76256\n",
      "DASH-USD :Collecting range: 2021-05-19 21:44:05.889639-2021-05-20 02:44:05.889639, data length: 178716"
     ]
    },
    {
     "name": "stderr",
     "output_type": "stream",
     "text": [
      "/opt/homebrew/anaconda3/envs/quant/lib/python3.9/site-packages/cryptography/hazmat/backends/openssl/x509.py:14: CryptographyDeprecationWarning: This version of cryptography contains a temporary pyOpenSSL fallback path. Upgrade pyOpenSSL now.\n",
      "  warnings.warn(\n"
     ]
    },
    {
     "name": "stdout",
     "output_type": "stream",
     "text": [
      "Acquiring 106 / 161g range: 2022-04-15 07:44:05.889639-2022-04-15 12:44:05.889639, data length: 445092\n",
      "PRO-USD :Collecting range: 2021-02-27 10:44:05.889639-2021-02-27 15:44:05.889639, data length: 161"
     ]
    },
    {
     "name": "stderr",
     "output_type": "stream",
     "text": [
      "/opt/homebrew/anaconda3/envs/quant/lib/python3.9/site-packages/cryptography/hazmat/backends/openssl/x509.py:14: CryptographyDeprecationWarning: This version of cryptography contains a temporary pyOpenSSL fallback path. Upgrade pyOpenSSL now.\n",
      "  warnings.warn(\n"
     ]
    },
    {
     "name": "stdout",
     "output_type": "stream",
     "text": [
      "Acquiring 107 / 161 range: 2022-04-15 07:44:05.889639-2022-04-15 12:44:05.889639, data length: 35941\n",
      "EOS-USD :Collecting range: 2020-12-08 04:44:05.889639-2020-12-08 09:44:05.889639, data length: 4429"
     ]
    },
    {
     "name": "stderr",
     "output_type": "stream",
     "text": [
      "/opt/homebrew/anaconda3/envs/quant/lib/python3.9/site-packages/cryptography/hazmat/backends/openssl/x509.py:14: CryptographyDeprecationWarning: This version of cryptography contains a temporary pyOpenSSL fallback path. Upgrade pyOpenSSL now.\n",
      "  warnings.warn(\n"
     ]
    },
    {
     "name": "stdout",
     "output_type": "stream",
     "text": [
      "Acquiring 108 / 161 range: 2022-04-15 07:44:05.889639-2022-04-15 12:44:05.889639, data length: 520880\n",
      "FX-USD :Collecting range: 2021-04-14 06:44:05.889639-2021-04-14 11:44:05.889639, data length: 289"
     ]
    },
    {
     "name": "stderr",
     "output_type": "stream",
     "text": [
      "/opt/homebrew/anaconda3/envs/quant/lib/python3.9/site-packages/cryptography/hazmat/backends/openssl/x509.py:14: CryptographyDeprecationWarning: This version of cryptography contains a temporary pyOpenSSL fallback path. Upgrade pyOpenSSL now.\n",
      "  warnings.warn(\n"
     ]
    },
    {
     "name": "stdout",
     "output_type": "stream",
     "text": [
      "Acquiring 109 / 161range: 2022-04-15 07:44:05.889639-2022-04-15 12:44:05.889639, data length: 86378\n",
      "GALA-USD :Collecting range: 2021-01-23 00:44:05.889639-2021-01-23 05:44:05.889639, data length: 97"
     ]
    },
    {
     "name": "stderr",
     "output_type": "stream",
     "text": [
      "/opt/homebrew/anaconda3/envs/quant/lib/python3.9/site-packages/cryptography/hazmat/backends/openssl/x509.py:14: CryptographyDeprecationWarning: This version of cryptography contains a temporary pyOpenSSL fallback path. Upgrade pyOpenSSL now.\n",
      "  warnings.warn(\n"
     ]
    },
    {
     "name": "stdout",
     "output_type": "stream",
     "text": [
      "Acquiring 110 / 161g range: 2022-04-15 07:44:05.889639-2022-04-15 12:44:05.889639, data length: 188347\n",
      "RGT-USD :Collecting range: 2021-05-30 02:44:05.889639-2021-05-30 07:44:05.889639, data length: 9"
     ]
    },
    {
     "name": "stderr",
     "output_type": "stream",
     "text": [
      "/opt/homebrew/anaconda3/envs/quant/lib/python3.9/site-packages/cryptography/hazmat/backends/openssl/x509.py:14: CryptographyDeprecationWarning: This version of cryptography contains a temporary pyOpenSSL fallback path. Upgrade pyOpenSSL now.\n",
      "  warnings.warn(\n"
     ]
    },
    {
     "name": "stdout",
     "output_type": "stream",
     "text": [
      "Acquiring 111 / 161 range: 2022-04-15 07:44:05.889639-2022-04-15 12:44:05.889639, data length: 79168\n",
      "WBTC-USD :Collecting range: 2021-03-09 20:44:05.889639-2021-03-10 01:44:05.889639, data length: 59507"
     ]
    },
    {
     "name": "stderr",
     "output_type": "stream",
     "text": [
      "/opt/homebrew/anaconda3/envs/quant/lib/python3.9/site-packages/cryptography/hazmat/backends/openssl/x509.py:14: CryptographyDeprecationWarning: This version of cryptography contains a temporary pyOpenSSL fallback path. Upgrade pyOpenSSL now.\n",
      "  warnings.warn(\n"
     ]
    },
    {
     "name": "stdout",
     "output_type": "stream",
     "text": [
      "Acquiring 112 / 161g range: 2022-04-15 07:44:05.889639-2022-04-15 12:44:05.889639, data length: 194330\n",
      "DNT-USD :Collecting range: 2020-12-18 19:44:05.889639-2020-12-19 00:44:05.889639, data length: 15"
     ]
    },
    {
     "name": "stderr",
     "output_type": "stream",
     "text": [
      "/opt/homebrew/anaconda3/envs/quant/lib/python3.9/site-packages/cryptography/hazmat/backends/openssl/x509.py:14: CryptographyDeprecationWarning: This version of cryptography contains a temporary pyOpenSSL fallback path. Upgrade pyOpenSSL now.\n",
      "  warnings.warn(\n"
     ]
    },
    {
     "name": "stdout",
     "output_type": "stream",
     "text": [
      "Acquiring 113 / 161 range: 2022-04-15 07:44:05.889639-2022-04-15 12:44:05.889639, data length: 53201\n",
      "LINK-USD :Collecting range: 2021-04-24 16:44:05.889639-2021-04-24 21:44:05.889639, data length: 180594"
     ]
    },
    {
     "name": "stderr",
     "output_type": "stream",
     "text": [
      "/opt/homebrew/anaconda3/envs/quant/lib/python3.9/site-packages/cryptography/hazmat/backends/openssl/x509.py:14: CryptographyDeprecationWarning: This version of cryptography contains a temporary pyOpenSSL fallback path. Upgrade pyOpenSSL now.\n",
      "  warnings.warn(\n"
     ]
    },
    {
     "name": "stdout",
     "output_type": "stream",
     "text": [
      "Acquiring 114 / 161g range: 2022-04-15 07:44:05.889639-2022-04-15 12:44:05.889639, data length: 654295\n",
      "ALGO-USD :Collecting range: 2021-02-02 10:44:05.889639-2021-02-02 15:44:05.889639, data length: 86012"
     ]
    },
    {
     "name": "stderr",
     "output_type": "stream",
     "text": [
      "/opt/homebrew/anaconda3/envs/quant/lib/python3.9/site-packages/cryptography/hazmat/backends/openssl/x509.py:14: CryptographyDeprecationWarning: This version of cryptography contains a temporary pyOpenSSL fallback path. Upgrade pyOpenSSL now.\n",
      "  warnings.warn(\n"
     ]
    },
    {
     "name": "stdout",
     "output_type": "stream",
     "text": [
      "Acquiring 115 / 161g range: 2022-04-15 07:44:05.889639-2022-04-15 12:44:05.889639, data length: 683163\n",
      "BAL-USD :Collecting range: 2021-06-09 17:44:05.889639-2021-06-09 22:44:05.889639, data length: 173301"
     ]
    },
    {
     "name": "stderr",
     "output_type": "stream",
     "text": [
      "/opt/homebrew/anaconda3/envs/quant/lib/python3.9/site-packages/cryptography/hazmat/backends/openssl/x509.py:14: CryptographyDeprecationWarning: This version of cryptography contains a temporary pyOpenSSL fallback path. Upgrade pyOpenSSL now.\n",
      "  warnings.warn(\n"
     ]
    },
    {
     "name": "stdout",
     "output_type": "stream",
     "text": [
      "Acquiring 116 / 161 range: 2022-04-15 07:44:05.889639-2022-04-15 12:44:05.889639, data length: 473947\n",
      "AXS-USD :Collecting range: 2021-03-20 06:44:05.889639-2021-03-20 11:44:05.889639, data length: 16"
     ]
    },
    {
     "name": "stderr",
     "output_type": "stream",
     "text": [
      "/opt/homebrew/anaconda3/envs/quant/lib/python3.9/site-packages/cryptography/hazmat/backends/openssl/x509.py:14: CryptographyDeprecationWarning: This version of cryptography contains a temporary pyOpenSSL fallback path. Upgrade pyOpenSSL now.\n",
      "  warnings.warn(\n"
     ]
    },
    {
     "name": "stdout",
     "output_type": "stream",
     "text": [
      "Acquiring 117 / 161 range: 2022-04-15 07:44:05.889639-2022-04-15 12:44:05.889639, data length: 303700\n",
      "LOOM-USD :Collecting range: 2020-12-29 00:44:05.889639-2020-12-29 05:44:05.889639, data length: 28"
     ]
    },
    {
     "name": "stderr",
     "output_type": "stream",
     "text": [
      "/opt/homebrew/anaconda3/envs/quant/lib/python3.9/site-packages/cryptography/hazmat/backends/openssl/x509.py:14: CryptographyDeprecationWarning: This version of cryptography contains a temporary pyOpenSSL fallback path. Upgrade pyOpenSSL now.\n",
      "  warnings.warn(\n"
     ]
    },
    {
     "name": "stdout",
     "output_type": "stream",
     "text": [
      "Acquiring 118 / 161g range: 2022-04-15 07:44:05.889639-2022-04-15 12:44:05.889639, data length: 72420\n",
      "MKR-USD :Collecting range: 2021-05-05 02:44:05.889639-2021-05-05 07:44:05.889639, data length: 190855"
     ]
    },
    {
     "name": "stderr",
     "output_type": "stream",
     "text": [
      "/opt/homebrew/anaconda3/envs/quant/lib/python3.9/site-packages/cryptography/hazmat/backends/openssl/x509.py:14: CryptographyDeprecationWarning: This version of cryptography contains a temporary pyOpenSSL fallback path. Upgrade pyOpenSSL now.\n",
      "  warnings.warn(\n"
     ]
    },
    {
     "name": "stdout",
     "output_type": "stream",
     "text": [
      "Acquiring 119 / 161 range: 2022-04-15 07:44:05.889639-2022-04-15 12:44:05.889639, data length: 575167\n",
      "MUSD-USD :Collecting range: 2021-01-05 07:44:05.889639-2021-01-05 12:44:05.889639, data length: 0Exception: sleep for 5\n",
      "MUSD-USD :Collecting range: 2021-01-05 17:44:05.889639-2021-01-05 22:44:05.889639, data length: 0"
     ]
    },
    {
     "name": "stderr",
     "output_type": "stream",
     "text": [
      "/opt/homebrew/anaconda3/envs/quant/lib/python3.9/site-packages/cryptography/hazmat/backends/openssl/x509.py:14: CryptographyDeprecationWarning: This version of cryptography contains a temporary pyOpenSSL fallback path. Upgrade pyOpenSSL now.\n",
      "  warnings.warn(\n"
     ]
    },
    {
     "name": "stdout",
     "output_type": "stream",
     "text": [
      "Acquiring 120 / 161g range: 2022-04-15 07:44:05.889639-2022-04-15 12:44:05.889639, data length: 14113\n",
      "MINA-USD :Collecting range: 2021-05-12 14:44:05.889639-2021-05-12 19:44:05.889639, data length: 335"
     ]
    },
    {
     "name": "stderr",
     "output_type": "stream",
     "text": [
      "/opt/homebrew/anaconda3/envs/quant/lib/python3.9/site-packages/cryptography/hazmat/backends/openssl/x509.py:14: CryptographyDeprecationWarning: This version of cryptography contains a temporary pyOpenSSL fallback path. Upgrade pyOpenSSL now.\n",
      "  warnings.warn(\n"
     ]
    },
    {
     "name": "stdout",
     "output_type": "stream",
     "text": [
      "Acquiring 121 / 161g range: 2022-04-15 07:44:05.889639-2022-04-15 12:44:05.889639, data length: 11321\n",
      "ORCA-USD :Collecting range: 2021-02-20 08:44:05.889639-2021-02-20 13:44:05.889639, data length: 150"
     ]
    },
    {
     "name": "stderr",
     "output_type": "stream",
     "text": [
      "/opt/homebrew/anaconda3/envs/quant/lib/python3.9/site-packages/cryptography/hazmat/backends/openssl/x509.py:14: CryptographyDeprecationWarning: This version of cryptography contains a temporary pyOpenSSL fallback path. Upgrade pyOpenSSL now.\n",
      "  warnings.warn(\n"
     ]
    },
    {
     "name": "stdout",
     "output_type": "stream",
     "text": [
      "Acquiring 122 / 161g range: 2022-04-15 07:44:05.889639-2022-04-15 12:44:05.889639, data length: 19655\n",
      "ZRX-USD :Collecting range: 2021-06-27 10:44:05.889639-2021-06-27 15:44:05.889639, data length: 241702"
     ]
    },
    {
     "name": "stderr",
     "output_type": "stream",
     "text": [
      "/opt/homebrew/anaconda3/envs/quant/lib/python3.9/site-packages/cryptography/hazmat/backends/openssl/x509.py:14: CryptographyDeprecationWarning: This version of cryptography contains a temporary pyOpenSSL fallback path. Upgrade pyOpenSSL now.\n",
      "  warnings.warn(\n"
     ]
    },
    {
     "name": "stdout",
     "output_type": "stream",
     "text": [
      "Acquiring 123 / 161 range: 2022-04-15 07:44:05.889639-2022-04-15 12:44:05.889639, data length: 589485\n",
      "DIA-USD :Collecting range: 2021-01-13 15:44:05.889639-2021-01-13 20:44:05.889639, data length: 73Exception: sleep for 5\n",
      "DIA-USD :Collecting range: 2021-01-14 01:44:05.889639-2021-01-14 06:44:05.889639, data length: 73"
     ]
    },
    {
     "name": "stderr",
     "output_type": "stream",
     "text": [
      "/opt/homebrew/anaconda3/envs/quant/lib/python3.9/site-packages/cryptography/hazmat/backends/openssl/x509.py:14: CryptographyDeprecationWarning: This version of cryptography contains a temporary pyOpenSSL fallback path. Upgrade pyOpenSSL now.\n",
      "  warnings.warn(\n"
     ]
    },
    {
     "name": "stdout",
     "output_type": "stream",
     "text": [
      "Acquiring 124 / 161 range: 2022-04-15 07:44:05.889639-2022-04-15 12:44:05.889639, data length: 19257\n",
      "FARM-USD :Collecting range: 2021-05-21 03:44:05.889639-2021-05-21 08:44:05.889639, data length: 366"
     ]
    },
    {
     "name": "stderr",
     "output_type": "stream",
     "text": [
      "/opt/homebrew/anaconda3/envs/quant/lib/python3.9/site-packages/cryptography/hazmat/backends/openssl/x509.py:14: CryptographyDeprecationWarning: This version of cryptography contains a temporary pyOpenSSL fallback path. Upgrade pyOpenSSL now.\n",
      "  warnings.warn(\n"
     ]
    },
    {
     "name": "stdout",
     "output_type": "stream",
     "text": [
      "Acquiring 125 / 161g range: 2022-04-15 07:44:05.889639-2022-04-15 12:44:05.889639, data length: 188571\n",
      "PLA-USD :Collecting range: 2021-02-28 21:44:05.889639-2021-03-01 02:44:05.889639, data length: 169"
     ]
    },
    {
     "name": "stderr",
     "output_type": "stream",
     "text": [
      "/opt/homebrew/anaconda3/envs/quant/lib/python3.9/site-packages/cryptography/hazmat/backends/openssl/x509.py:14: CryptographyDeprecationWarning: This version of cryptography contains a temporary pyOpenSSL fallback path. Upgrade pyOpenSSL now.\n",
      "  warnings.warn(\n"
     ]
    },
    {
     "name": "stdout",
     "output_type": "stream",
     "text": [
      "Acquiring 126 / 161 range: 2022-04-15 07:44:05.889639-2022-04-15 12:44:05.889639, data length: 159839\n",
      "BAND-USD :Collecting range: 2020-12-09 15:44:05.889639-2020-12-09 20:44:05.889639, data length: 6522"
     ]
    },
    {
     "name": "stderr",
     "output_type": "stream",
     "text": [
      "/opt/homebrew/anaconda3/envs/quant/lib/python3.9/site-packages/cryptography/hazmat/backends/openssl/x509.py:14: CryptographyDeprecationWarning: This version of cryptography contains a temporary pyOpenSSL fallback path. Upgrade pyOpenSSL now.\n",
      "  warnings.warn(\n"
     ]
    },
    {
     "name": "stdout",
     "output_type": "stream",
     "text": [
      "Acquiring 127 / 161g range: 2022-04-15 07:44:05.889639-2022-04-15 12:44:05.889639, data length: 476391\n",
      "COMP-USD :Collecting range: 2021-04-15 17:44:05.889639-2021-04-15 22:44:05.889639, data length: 181145"
     ]
    },
    {
     "name": "stderr",
     "output_type": "stream",
     "text": [
      "/opt/homebrew/anaconda3/envs/quant/lib/python3.9/site-packages/cryptography/hazmat/backends/openssl/x509.py:14: CryptographyDeprecationWarning: This version of cryptography contains a temporary pyOpenSSL fallback path. Upgrade pyOpenSSL now.\n",
      "  warnings.warn(\n"
     ]
    },
    {
     "name": "stdout",
     "output_type": "stream",
     "text": [
      "Acquiring 128 / 161g range: 2022-04-15 07:44:05.889639-2022-04-15 12:44:05.889639, data length: 632074\n",
      "REP-USD :Collecting range: 2021-01-24 06:44:05.889639-2021-01-24 11:44:05.889639, data length: 33343"
     ]
    },
    {
     "name": "stderr",
     "output_type": "stream",
     "text": [
      "/opt/homebrew/anaconda3/envs/quant/lib/python3.9/site-packages/cryptography/hazmat/backends/openssl/x509.py:14: CryptographyDeprecationWarning: This version of cryptography contains a temporary pyOpenSSL fallback path. Upgrade pyOpenSSL now.\n",
      "  warnings.warn(\n"
     ]
    },
    {
     "name": "stdout",
     "output_type": "stream",
     "text": [
      "Acquiring 129 / 161 range: 2022-04-15 07:44:05.889639-2022-04-15 12:44:05.889639, data length: 233798\n",
      "GLM-USD :Collecting range: 2021-05-31 08:44:05.889639-2021-05-31 13:44:05.889639, data length: 0"
     ]
    },
    {
     "name": "stderr",
     "output_type": "stream",
     "text": [
      "/opt/homebrew/anaconda3/envs/quant/lib/python3.9/site-packages/cryptography/hazmat/backends/openssl/x509.py:14: CryptographyDeprecationWarning: This version of cryptography contains a temporary pyOpenSSL fallback path. Upgrade pyOpenSSL now.\n",
      "  warnings.warn(\n"
     ]
    },
    {
     "name": "stdout",
     "output_type": "stream",
     "text": [
      "Acquiring 130 / 161 range: 2022-04-15 07:44:05.889639-2022-04-15 12:44:05.889639, data length: 22039\n",
      "BLZ-USD :Collecting range: 2021-03-11 07:44:05.889639-2021-03-11 12:44:05.889639, data length: 0"
     ]
    },
    {
     "name": "stderr",
     "output_type": "stream",
     "text": [
      "/opt/homebrew/anaconda3/envs/quant/lib/python3.9/site-packages/cryptography/hazmat/backends/openssl/x509.py:14: CryptographyDeprecationWarning: This version of cryptography contains a temporary pyOpenSSL fallback path. Upgrade pyOpenSSL now.\n",
      "  warnings.warn(\n"
     ]
    },
    {
     "name": "stdout",
     "output_type": "stream",
     "text": [
      "Acquiring 131 / 161 range: 2022-04-15 07:44:05.889639-2022-04-15 12:44:05.889639, data length: 68874\n",
      "SKL-USD :Collecting range: 2020-12-19 20:44:05.889639-2020-12-20 01:44:05.889639, data length: 14"
     ]
    },
    {
     "name": "stderr",
     "output_type": "stream",
     "text": [
      "/opt/homebrew/anaconda3/envs/quant/lib/python3.9/site-packages/cryptography/hazmat/backends/openssl/x509.py:14: CryptographyDeprecationWarning: This version of cryptography contains a temporary pyOpenSSL fallback path. Upgrade pyOpenSSL now.\n",
      "  warnings.warn(\n"
     ]
    },
    {
     "name": "stdout",
     "output_type": "stream",
     "text": [
      "Acquiring 132 / 161 range: 2022-04-15 07:44:05.889639-2022-04-15 12:44:05.889639, data length: 500384\n",
      "MCO2-USD :Collecting range: 2021-04-25 22:44:05.889639-2021-04-26 03:44:05.889639, data length: 293"
     ]
    },
    {
     "name": "stderr",
     "output_type": "stream",
     "text": [
      "/opt/homebrew/anaconda3/envs/quant/lib/python3.9/site-packages/cryptography/hazmat/backends/openssl/x509.py:14: CryptographyDeprecationWarning: This version of cryptography contains a temporary pyOpenSSL fallback path. Upgrade pyOpenSSL now.\n",
      "  warnings.warn(\n"
     ]
    },
    {
     "name": "stdout",
     "output_type": "stream",
     "text": [
      "Acquiring 133 / 161g range: 2022-04-15 07:44:05.889639-2022-04-15 12:44:05.889639, data length: 41075\n",
      "UPI-USD :Collecting range: 2021-02-04 02:44:05.889639-2021-02-04 07:44:05.889639, data length: 113"
     ]
    },
    {
     "name": "stderr",
     "output_type": "stream",
     "text": [
      "/opt/homebrew/anaconda3/envs/quant/lib/python3.9/site-packages/cryptography/hazmat/backends/openssl/x509.py:14: CryptographyDeprecationWarning: This version of cryptography contains a temporary pyOpenSSL fallback path. Upgrade pyOpenSSL now.\n",
      "  warnings.warn(\n"
     ]
    },
    {
     "name": "stdout",
     "output_type": "stream",
     "text": [
      "Acquiring 134 / 161 range: 2022-04-15 07:44:05.889639-2022-04-15 12:44:05.889639, data length: 44272\n",
      "KNC-USD :Collecting range: 2021-06-10 18:44:05.889639-2021-06-10 23:44:05.889639, data length: 201071"
     ]
    },
    {
     "name": "stderr",
     "output_type": "stream",
     "text": [
      "/opt/homebrew/anaconda3/envs/quant/lib/python3.9/site-packages/cryptography/hazmat/backends/openssl/x509.py:14: CryptographyDeprecationWarning: This version of cryptography contains a temporary pyOpenSSL fallback path. Upgrade pyOpenSSL now.\n",
      "  warnings.warn(\n"
     ]
    },
    {
     "name": "stdout",
     "output_type": "stream",
     "text": [
      "Acquiring 135 / 161 range: 2022-04-15 07:44:05.889639-2022-04-15 12:44:05.889639, data length: 460173\n",
      "QUICK-USD :Collecting range: 2021-03-21 12:44:05.889639-2021-03-21 17:44:05.889639, data length: 228"
     ]
    },
    {
     "name": "stderr",
     "output_type": "stream",
     "text": [
      "/opt/homebrew/anaconda3/envs/quant/lib/python3.9/site-packages/cryptography/hazmat/backends/openssl/x509.py:14: CryptographyDeprecationWarning: This version of cryptography contains a temporary pyOpenSSL fallback path. Upgrade pyOpenSSL now.\n",
      "  warnings.warn(\n"
     ]
    },
    {
     "name": "stdout",
     "output_type": "stream",
     "text": [
      "Acquiring 136 / 161ng range: 2022-04-15 07:44:05.889639-2022-04-15 12:44:05.889639, data length: 91999\n",
      "USDT-USD :Collecting range: 2020-12-30 06:44:05.889639-2020-12-30 11:44:05.889639, data length: 43"
     ]
    },
    {
     "name": "stderr",
     "output_type": "stream",
     "text": [
      "/opt/homebrew/anaconda3/envs/quant/lib/python3.9/site-packages/cryptography/hazmat/backends/openssl/x509.py:14: CryptographyDeprecationWarning: This version of cryptography contains a temporary pyOpenSSL fallback path. Upgrade pyOpenSSL now.\n",
      "  warnings.warn(\n"
     ]
    },
    {
     "name": "stdout",
     "output_type": "stream",
     "text": [
      "Acquiring 137 / 161g range: 2022-04-15 07:44:05.889639-2022-04-15 12:44:05.889639, data length: 405331\n",
      "NU-USD :Collecting range: 2021-05-06 08:44:05.889639-2021-05-06 13:44:05.889639, data length: 206420"
     ]
    },
    {
     "name": "stderr",
     "output_type": "stream",
     "text": [
      "/opt/homebrew/anaconda3/envs/quant/lib/python3.9/site-packages/cryptography/hazmat/backends/openssl/x509.py:14: CryptographyDeprecationWarning: This version of cryptography contains a temporary pyOpenSSL fallback path. Upgrade pyOpenSSL now.\n",
      "  warnings.warn(\n"
     ]
    },
    {
     "name": "stdout",
     "output_type": "stream",
     "text": [
      "Acquiring 138 / 161range: 2022-04-15 07:44:05.889639-2022-04-15 12:44:05.889639, data length: 505020\n",
      "ETC-USD :Collecting range: 2021-02-14 02:44:05.889639-2021-02-14 07:44:05.889639, data length: 75148"
     ]
    },
    {
     "name": "stderr",
     "output_type": "stream",
     "text": [
      "/opt/homebrew/anaconda3/envs/quant/lib/python3.9/site-packages/cryptography/hazmat/backends/openssl/x509.py:14: CryptographyDeprecationWarning: This version of cryptography contains a temporary pyOpenSSL fallback path. Upgrade pyOpenSSL now.\n",
      "  warnings.warn(\n"
     ]
    },
    {
     "name": "stdout",
     "output_type": "stream",
     "text": [
      "Acquiring 139 / 161 range: 2022-04-15 07:44:05.889639-2022-04-15 12:44:05.889639, data length: 610648\n",
      "AMP-USD :Collecting range: 2020-12-18 09:44:05.889639-2020-12-18 14:44:05.889639, data length: 10Exception: sleep for 5\n",
      "AMP-USD :Collecting range: 2020-12-18 14:44:05.889639-2020-12-18 19:44:05.889639, data length: 10"
     ]
    },
    {
     "name": "stderr",
     "output_type": "stream",
     "text": [
      "/opt/homebrew/anaconda3/envs/quant/lib/python3.9/site-packages/cryptography/hazmat/backends/openssl/x509.py:14: CryptographyDeprecationWarning: This version of cryptography contains a temporary pyOpenSSL fallback path. Upgrade pyOpenSSL now.\n",
      "  warnings.warn(\n"
     ]
    },
    {
     "name": "stdout",
     "output_type": "stream",
     "text": [
      "Acquiring 140 / 161 range: 2022-04-15 07:44:05.889639-2022-04-15 12:44:05.889639, data length: 404999\n",
      "AUCTION-USD :Collecting range: 2021-04-24 16:44:05.889639-2021-04-24 21:44:05.889639, data length: 0"
     ]
    },
    {
     "name": "stderr",
     "output_type": "stream",
     "text": [
      "/opt/homebrew/anaconda3/envs/quant/lib/python3.9/site-packages/cryptography/hazmat/backends/openssl/x509.py:14: CryptographyDeprecationWarning: This version of cryptography contains a temporary pyOpenSSL fallback path. Upgrade pyOpenSSL now.\n",
      "  warnings.warn(\n"
     ]
    },
    {
     "name": "stdout",
     "output_type": "stream",
     "text": [
      "Acquiring 141 / 161ting range: 2022-04-15 07:44:05.889639-2022-04-15 12:44:05.889639, data length: 142769\n",
      "FIL-USD :Collecting range: 2021-02-02 10:44:05.889639-2021-02-02 15:44:05.889639, data length: 59271"
     ]
    },
    {
     "name": "stderr",
     "output_type": "stream",
     "text": [
      "/opt/homebrew/anaconda3/envs/quant/lib/python3.9/site-packages/cryptography/hazmat/backends/openssl/x509.py:14: CryptographyDeprecationWarning: This version of cryptography contains a temporary pyOpenSSL fallback path. Upgrade pyOpenSSL now.\n",
      "  warnings.warn(\n"
     ]
    },
    {
     "name": "stdout",
     "output_type": "stream",
     "text": [
      "Acquiring 142 / 161 range: 2022-04-15 07:44:05.889639-2022-04-15 12:44:05.889639, data length: 548776\n",
      "JASMY-USD :Collecting range: 2021-06-09 17:44:05.889639-2021-06-09 22:44:05.889639, data length: 418"
     ]
    },
    {
     "name": "stderr",
     "output_type": "stream",
     "text": [
      "/opt/homebrew/anaconda3/envs/quant/lib/python3.9/site-packages/cryptography/hazmat/backends/openssl/x509.py:14: CryptographyDeprecationWarning: This version of cryptography contains a temporary pyOpenSSL fallback path. Upgrade pyOpenSSL now.\n",
      "  warnings.warn(\n"
     ]
    },
    {
     "name": "stdout",
     "output_type": "stream",
     "text": [
      "Acquiring 143 / 161ng range: 2022-04-15 07:44:05.889639-2022-04-15 12:44:05.889639, data length: 234707\n",
      "BICO-USD :Collecting range: 2021-03-20 06:44:05.889639-2021-03-20 11:44:05.889639, data length: 231"
     ]
    },
    {
     "name": "stderr",
     "output_type": "stream",
     "text": [
      "/opt/homebrew/anaconda3/envs/quant/lib/python3.9/site-packages/cryptography/hazmat/backends/openssl/x509.py:14: CryptographyDeprecationWarning: This version of cryptography contains a temporary pyOpenSSL fallback path. Upgrade pyOpenSSL now.\n",
      "  warnings.warn(\n"
     ]
    },
    {
     "name": "stdout",
     "output_type": "stream",
     "text": [
      "Acquiring 144 / 161g range: 2022-04-15 07:44:05.889639-2022-04-15 12:44:05.889639, data length: 126035\n",
      "SUKU-USD :Collecting range: 2020-12-29 00:44:05.889639-2020-12-29 05:44:05.889639, data length: 38"
     ]
    },
    {
     "name": "stderr",
     "output_type": "stream",
     "text": [
      "/opt/homebrew/anaconda3/envs/quant/lib/python3.9/site-packages/cryptography/hazmat/backends/openssl/x509.py:14: CryptographyDeprecationWarning: This version of cryptography contains a temporary pyOpenSSL fallback path. Upgrade pyOpenSSL now.\n",
      "  warnings.warn(\n"
     ]
    },
    {
     "name": "stdout",
     "output_type": "stream",
     "text": [
      "Acquiring 145 / 161g range: 2022-04-15 07:44:05.889639-2022-04-15 12:44:05.889639, data length: 95015\n",
      "API3-USD :Collecting range: 2021-05-05 07:44:05.889639-2021-05-05 12:44:05.889639, data length: 339"
     ]
    },
    {
     "name": "stderr",
     "output_type": "stream",
     "text": [
      "/opt/homebrew/anaconda3/envs/quant/lib/python3.9/site-packages/cryptography/hazmat/backends/openssl/x509.py:14: CryptographyDeprecationWarning: This version of cryptography contains a temporary pyOpenSSL fallback path. Upgrade pyOpenSSL now.\n",
      "  warnings.warn(\n"
     ]
    },
    {
     "name": "stdout",
     "output_type": "stream",
     "text": [
      "Acquiring 146 / 161g range: 2022-04-15 07:44:05.889639-2022-04-15 12:44:05.889639, data length: 91102\n",
      "BCH-USD :Collecting range: 2021-02-13 01:44:05.889639-2021-02-13 06:44:05.889639, data length: 97642"
     ]
    },
    {
     "name": "stderr",
     "output_type": "stream",
     "text": [
      "/opt/homebrew/anaconda3/envs/quant/lib/python3.9/site-packages/cryptography/hazmat/backends/openssl/x509.py:14: CryptographyDeprecationWarning: This version of cryptography contains a temporary pyOpenSSL fallback path. Upgrade pyOpenSSL now.\n",
      "  warnings.warn(\n"
     ]
    },
    {
     "name": "stdout",
     "output_type": "stream",
     "text": [
      "Acquiring 147 / 161 range: 2022-04-15 07:44:05.889639-2022-04-15 12:44:05.889639, data length: 592743\n",
      "DDX-USD :Collecting range: 2021-06-19 22:44:05.889639-2021-06-20 03:44:05.889639, data length: 430"
     ]
    },
    {
     "name": "stderr",
     "output_type": "stream",
     "text": [
      "/opt/homebrew/anaconda3/envs/quant/lib/python3.9/site-packages/cryptography/hazmat/backends/openssl/x509.py:14: CryptographyDeprecationWarning: This version of cryptography contains a temporary pyOpenSSL fallback path. Upgrade pyOpenSSL now.\n",
      "  warnings.warn(\n"
     ]
    },
    {
     "name": "stdout",
     "output_type": "stream",
     "text": [
      "Acquiring 148 / 161 range: 2022-04-15 07:44:05.889639-2022-04-15 12:44:05.889639, data length: 95008\n",
      "ICP-USD :Collecting range: 2021-03-31 02:44:05.889639-2021-03-31 07:44:05.889639, data length: 254"
     ]
    },
    {
     "name": "stderr",
     "output_type": "stream",
     "text": [
      "/opt/homebrew/anaconda3/envs/quant/lib/python3.9/site-packages/cryptography/hazmat/backends/openssl/x509.py:14: CryptographyDeprecationWarning: This version of cryptography contains a temporary pyOpenSSL fallback path. Upgrade pyOpenSSL now.\n",
      "  warnings.warn(\n"
     ]
    },
    {
     "name": "stdout",
     "output_type": "stream",
     "text": [
      "Acquiring 149 / 161 range: 2022-04-15 07:44:05.889639-2022-04-15 12:44:05.889639, data length: 385593\n",
      "WCFG-USD :Collecting range: 2021-01-08 10:44:05.889639-2021-01-08 15:44:05.889639, data length: 64"
     ]
    },
    {
     "name": "stderr",
     "output_type": "stream",
     "text": [
      "/opt/homebrew/anaconda3/envs/quant/lib/python3.9/site-packages/cryptography/hazmat/backends/openssl/x509.py:14: CryptographyDeprecationWarning: This version of cryptography contains a temporary pyOpenSSL fallback path. Upgrade pyOpenSSL now.\n",
      "  warnings.warn(\n"
     ]
    },
    {
     "name": "stdout",
     "output_type": "stream",
     "text": [
      "Acquiring 150 / 161g range: 2022-04-15 07:44:05.889639-2022-04-15 12:44:05.889639, data length: 68858\n",
      "QSP-USD :Collecting range: 2021-05-15 17:44:05.889639-2021-05-15 22:44:05.889639, data length: 360"
     ]
    },
    {
     "name": "stderr",
     "output_type": "stream",
     "text": [
      "/opt/homebrew/anaconda3/envs/quant/lib/python3.9/site-packages/cryptography/hazmat/backends/openssl/x509.py:14: CryptographyDeprecationWarning: This version of cryptography contains a temporary pyOpenSSL fallback path. Upgrade pyOpenSSL now.\n",
      "  warnings.warn(\n"
     ]
    },
    {
     "name": "stdout",
     "output_type": "stream",
     "text": [
      "Acquiring 151 / 161 range: 2022-04-15 07:44:05.889639-2022-04-15 12:44:05.889639, data length: 41108\n",
      "CGLD-USD :Collecting range: 2021-02-23 11:44:05.889639-2021-02-23 16:44:05.889639, data length: 92914"
     ]
    },
    {
     "name": "stderr",
     "output_type": "stream",
     "text": [
      "/opt/homebrew/anaconda3/envs/quant/lib/python3.9/site-packages/cryptography/hazmat/backends/openssl/x509.py:14: CryptographyDeprecationWarning: This version of cryptography contains a temporary pyOpenSSL fallback path. Upgrade pyOpenSSL now.\n",
      "  warnings.warn(\n"
     ]
    },
    {
     "name": "stdout",
     "output_type": "stream",
     "text": [
      "CGLD-USD :Collecting range: 2021-09-09 14:44:05.889639-2021-09-09 19:44:05.889639, data length: 322851Exception: sleep for 5\n",
      "Acquiring 152 / 161g range: 2022-04-15 07:44:05.889639-2022-04-15 12:44:05.889639, data length: 535215\n",
      "STX-USD :Collecting range: 2021-06-20 13:44:05.889639-2021-06-20 18:44:05.889639, data length: 403"
     ]
    },
    {
     "name": "stderr",
     "output_type": "stream",
     "text": [
      "/opt/homebrew/anaconda3/envs/quant/lib/python3.9/site-packages/cryptography/hazmat/backends/openssl/x509.py:14: CryptographyDeprecationWarning: This version of cryptography contains a temporary pyOpenSSL fallback path. Upgrade pyOpenSSL now.\n",
      "  warnings.warn(\n"
     ]
    },
    {
     "name": "stdout",
     "output_type": "stream",
     "text": [
      "Acquiring 153 / 161 range: 2022-04-15 07:44:05.889639-2022-04-15 12:44:05.889639, data length: 37722\n",
      "ATOM-USD :Collecting range: 2021-03-31 12:44:05.889639-2021-03-31 17:44:05.889639, data length: 145895"
     ]
    },
    {
     "name": "stderr",
     "output_type": "stream",
     "text": [
      "/opt/homebrew/anaconda3/envs/quant/lib/python3.9/site-packages/cryptography/hazmat/backends/openssl/x509.py:14: CryptographyDeprecationWarning: This version of cryptography contains a temporary pyOpenSSL fallback path. Upgrade pyOpenSSL now.\n",
      "  warnings.warn(\n"
     ]
    },
    {
     "name": "stdout",
     "output_type": "stream",
     "text": [
      "Acquiring 154 / 161g range: 2022-04-15 07:44:05.889639-2022-04-15 12:44:05.889639, data length: 609997\n",
      "BNT-USD :Collecting range: 2021-01-09 01:44:05.889639-2021-01-09 06:44:05.889639, data length: 18044"
     ]
    },
    {
     "name": "stderr",
     "output_type": "stream",
     "text": [
      "/opt/homebrew/anaconda3/envs/quant/lib/python3.9/site-packages/cryptography/hazmat/backends/openssl/x509.py:14: CryptographyDeprecationWarning: This version of cryptography contains a temporary pyOpenSSL fallback path. Upgrade pyOpenSSL now.\n",
      "  warnings.warn(\n"
     ]
    },
    {
     "name": "stdout",
     "output_type": "stream",
     "text": [
      "Acquiring 155 / 161 range: 2022-04-15 07:44:05.889639-2022-04-15 12:44:05.889639, data length: 254286\n",
      "ASM-USD :Collecting range: 2021-04-27 09:44:05.889639-2021-04-27 14:44:05.889639, data length: 330Exception: sleep for 5\n",
      "ASM-USD :Collecting range: 2021-04-28 00:44:05.889639-2021-04-28 05:44:05.889639, data length: 330"
     ]
    },
    {
     "name": "stderr",
     "output_type": "stream",
     "text": [
      "/opt/homebrew/anaconda3/envs/quant/lib/python3.9/site-packages/cryptography/hazmat/backends/openssl/x509.py:14: CryptographyDeprecationWarning: This version of cryptography contains a temporary pyOpenSSL fallback path. Upgrade pyOpenSSL now.\n",
      "  warnings.warn(\n"
     ]
    },
    {
     "name": "stdout",
     "output_type": "stream",
     "text": [
      "Acquiring 156 / 161 range: 2022-04-15 07:44:05.889639-2022-04-15 12:44:05.889639, data length: 129656\n",
      "UST-USD :Collecting range: 2021-02-05 08:44:05.889639-2021-02-05 13:44:05.889639, data length: 122"
     ]
    },
    {
     "name": "stderr",
     "output_type": "stream",
     "text": [
      "/opt/homebrew/anaconda3/envs/quant/lib/python3.9/site-packages/cryptography/hazmat/backends/openssl/x509.py:14: CryptographyDeprecationWarning: This version of cryptography contains a temporary pyOpenSSL fallback path. Upgrade pyOpenSSL now.\n",
      "  warnings.warn(\n"
     ]
    },
    {
     "name": "stdout",
     "output_type": "stream",
     "text": [
      "Acquiring 157 / 161 range: 2022-04-15 07:44:05.889639-2022-04-15 12:44:05.889639, data length: 127809\n",
      "COTI-USD :Collecting range: 2021-06-12 10:44:05.889639-2021-06-12 15:44:05.889639, data length: 410"
     ]
    },
    {
     "name": "stderr",
     "output_type": "stream",
     "text": [
      "/opt/homebrew/anaconda3/envs/quant/lib/python3.9/site-packages/cryptography/hazmat/backends/openssl/x509.py:14: CryptographyDeprecationWarning: This version of cryptography contains a temporary pyOpenSSL fallback path. Upgrade pyOpenSSL now.\n",
      "  warnings.warn(\n"
     ]
    },
    {
     "name": "stdout",
     "output_type": "stream",
     "text": [
      "Acquiring 158 / 161g range: 2022-04-15 07:44:05.889639-2022-04-15 12:44:05.889639, data length: 245343\n",
      "WLUNA-USD :Collecting range: 2021-03-23 04:44:05.889639-2021-03-23 09:44:05.889639, data length: 0"
     ]
    },
    {
     "name": "stderr",
     "output_type": "stream",
     "text": [
      "/opt/homebrew/anaconda3/envs/quant/lib/python3.9/site-packages/cryptography/hazmat/backends/openssl/x509.py:14: CryptographyDeprecationWarning: This version of cryptography contains a temporary pyOpenSSL fallback path. Upgrade pyOpenSSL now.\n",
      "  warnings.warn(\n"
     ]
    },
    {
     "name": "stdout",
     "output_type": "stream",
     "text": [
      "Acquiring 159 / 161ng range: 2022-04-15 07:44:05.889639-2022-04-15 12:44:05.889639, data length: 248854\n",
      "BOND-USD :Collecting range: 2020-12-31 22:44:05.889639-2021-01-01 03:44:05.889639, data length: 46"
     ]
    },
    {
     "name": "stderr",
     "output_type": "stream",
     "text": [
      "/opt/homebrew/anaconda3/envs/quant/lib/python3.9/site-packages/cryptography/hazmat/backends/openssl/x509.py:14: CryptographyDeprecationWarning: This version of cryptography contains a temporary pyOpenSSL fallback path. Upgrade pyOpenSSL now.\n",
      "  warnings.warn(\n"
     ]
    },
    {
     "name": "stdout",
     "output_type": "stream",
     "text": [
      "BOND-USD :Collecting range: 2021-11-15 01:44:05.889639-2021-11-15 06:44:05.889639, data length: 159450Exception: sleep for 5\n",
      "Acquiring 160 / 161g range: 2022-04-15 07:44:05.889639-2022-04-15 12:44:05.889639, data length: 236572\n",
      "XRP-USD :Collecting range: 2021-01-29 16:44:05.889639-2021-01-29 21:44:05.889639, data length: 67900"
     ]
    },
    {
     "name": "stderr",
     "output_type": "stream",
     "text": [
      "/opt/homebrew/anaconda3/envs/quant/lib/python3.9/site-packages/cryptography/hazmat/backends/openssl/x509.py:14: CryptographyDeprecationWarning: This version of cryptography contains a temporary pyOpenSSL fallback path. Upgrade pyOpenSSL now.\n",
      "  warnings.warn(\n"
     ]
    },
    {
     "name": "stdout",
     "output_type": "stream",
     "text": [
      "XRP-USD :Collecting range: 2022-04-15 07:44:05.889639-2022-04-15 12:44:05.889639, data length: 68900"
     ]
    }
   ],
   "source": [
    "all_product_data=[]\n",
    "products_to_acquire = usd_products[6:]\n",
    "for i, product in enumerate(products_to_acquire):\n",
    "    print(f\"\\rAcquiring {i} / {len(products_to_acquire)}\\n\",end=\"\")\n",
    "    data_list=[]\n",
    "    start_time = first_start_time\n",
    "    end_time = first_end_time\n",
    "    while end_time<final_end_time:\n",
    "        print(f\"\\r{product['id']} :Collecting range: {start_time}-{end_time}, data length: {len(data_list)}\",end=\"\")\n",
    "        start_time_iso = start_time.isoformat()\n",
    "        end_time_iso = end_time.isoformat()\n",
    "        try:\n",
    "            data_list.extend(auth_client.get_product_historic_rates(product['id'],start=start_time_iso, end=end_time_iso,granularity=60))\n",
    "        except:\n",
    "            print(\"Exception: sleep for 5\")\n",
    "            time.sleep(5)\n",
    "        start_time = start_time + timedelta(minutes=300)\n",
    "        end_time = end_time + timedelta(minutes=300)\n",
    "    time.sleep(5)\n",
    "    dataframe = pd.DataFrame(data = [line for line in data_list if line != 'message'], columns = ['time','low','high','open','close','volume'])\n",
    "    dataframe.to_csv(f'./{product[\"id\"]}_data.csv',index=None)\n",
    "    all_product_data.append(data_list)"
   ]
  },
  {
   "cell_type": "code",
   "execution_count": 117,
   "id": "7c631156-8472-4524-ad49-15b41ddff48f",
   "metadata": {},
   "outputs": [],
   "source": [
    "all_product_dict={k['id']:None for k in products_to_acquire}\n",
    "\n",
    "for key in all_product_dict:\n",
    "    dataframe = pd.DataFrame(data = [line for line in all_product_data[0] if line != 'message'], columns = ['time','low','high','open','close','volume'])\n",
    "    all_product_dict[key] = dataframe"
   ]
  },
  {
   "cell_type": "code",
   "execution_count": 121,
   "id": "f25414b3-66b2-4a9c-8789-c7e731bb062e",
   "metadata": {},
   "outputs": [
    {
     "data": {
      "text/plain": [
       "{'GTC-USD':              time    low   high   open  close  volume\n",
       " 0      1641415320  13.89  13.91  13.90  13.91   90.77\n",
       " 1      1641415260  13.89  13.93  13.93  13.91   23.99\n",
       " 2      1641415200  13.90  13.94  13.90  13.92   67.27\n",
       " 3      1641415140  13.90  13.96  13.92  13.90   76.29\n",
       " 4      1641415080  13.88  13.92  13.88  13.92   61.15\n",
       " ...           ...    ...    ...    ...    ...     ...\n",
       " 50781  1650002640   5.99   6.02   5.99   6.02  453.13\n",
       " 50782  1650002100   5.99   6.02   6.01   5.99  120.70\n",
       " 50783  1650001680   6.00   6.01   6.01   6.00    0.25\n",
       " 50784  1650001440   6.03   6.04   6.04   6.03    0.84\n",
       " 50785  1650001380   6.03   6.03   6.03   6.03    6.30\n",
       " \n",
       " [50786 rows x 6 columns],\n",
       " 'TRU-USD':              time    low   high   open  close  volume\n",
       " 0      1641415320  13.89  13.91  13.90  13.91   90.77\n",
       " 1      1641415260  13.89  13.93  13.93  13.91   23.99\n",
       " 2      1641415200  13.90  13.94  13.90  13.92   67.27\n",
       " 3      1641415140  13.90  13.96  13.92  13.90   76.29\n",
       " 4      1641415080  13.88  13.92  13.88  13.92   61.15\n",
       " ...           ...    ...    ...    ...    ...     ...\n",
       " 50781  1650002640   5.99   6.02   5.99   6.02  453.13\n",
       " 50782  1650002100   5.99   6.02   6.01   5.99  120.70\n",
       " 50783  1650001680   6.00   6.01   6.01   6.00    0.25\n",
       " 50784  1650001440   6.03   6.04   6.04   6.03    0.84\n",
       " 50785  1650001380   6.03   6.03   6.03   6.03    6.30\n",
       " \n",
       " [50786 rows x 6 columns],\n",
       " 'DOGE-USD':              time    low   high   open  close  volume\n",
       " 0      1641415320  13.89  13.91  13.90  13.91   90.77\n",
       " 1      1641415260  13.89  13.93  13.93  13.91   23.99\n",
       " 2      1641415200  13.90  13.94  13.90  13.92   67.27\n",
       " 3      1641415140  13.90  13.96  13.92  13.90   76.29\n",
       " 4      1641415080  13.88  13.92  13.88  13.92   61.15\n",
       " ...           ...    ...    ...    ...    ...     ...\n",
       " 50781  1650002640   5.99   6.02   5.99   6.02  453.13\n",
       " 50782  1650002100   5.99   6.02   6.01   5.99  120.70\n",
       " 50783  1650001680   6.00   6.01   6.01   6.00    0.25\n",
       " 50784  1650001440   6.03   6.04   6.04   6.03    0.84\n",
       " 50785  1650001380   6.03   6.03   6.03   6.03    6.30\n",
       " \n",
       " [50786 rows x 6 columns],\n",
       " 'CHZ-USD':              time    low   high   open  close  volume\n",
       " 0      1641415320  13.89  13.91  13.90  13.91   90.77\n",
       " 1      1641415260  13.89  13.93  13.93  13.91   23.99\n",
       " 2      1641415200  13.90  13.94  13.90  13.92   67.27\n",
       " 3      1641415140  13.90  13.96  13.92  13.90   76.29\n",
       " 4      1641415080  13.88  13.92  13.88  13.92   61.15\n",
       " ...           ...    ...    ...    ...    ...     ...\n",
       " 50781  1650002640   5.99   6.02   5.99   6.02  453.13\n",
       " 50782  1650002100   5.99   6.02   6.01   5.99  120.70\n",
       " 50783  1650001680   6.00   6.01   6.01   6.00    0.25\n",
       " 50784  1650001440   6.03   6.04   6.04   6.03    0.84\n",
       " 50785  1650001380   6.03   6.03   6.03   6.03    6.30\n",
       " \n",
       " [50786 rows x 6 columns],\n",
       " 'PLU-USD':              time    low   high   open  close  volume\n",
       " 0      1641415320  13.89  13.91  13.90  13.91   90.77\n",
       " 1      1641415260  13.89  13.93  13.93  13.91   23.99\n",
       " 2      1641415200  13.90  13.94  13.90  13.92   67.27\n",
       " 3      1641415140  13.90  13.96  13.92  13.90   76.29\n",
       " 4      1641415080  13.88  13.92  13.88  13.92   61.15\n",
       " ...           ...    ...    ...    ...    ...     ...\n",
       " 50781  1650002640   5.99   6.02   5.99   6.02  453.13\n",
       " 50782  1650002100   5.99   6.02   6.01   5.99  120.70\n",
       " 50783  1650001680   6.00   6.01   6.01   6.00    0.25\n",
       " 50784  1650001440   6.03   6.04   6.04   6.03    0.84\n",
       " 50785  1650001380   6.03   6.03   6.03   6.03    6.30\n",
       " \n",
       " [50786 rows x 6 columns]}"
      ]
     },
     "execution_count": 121,
     "metadata": {},
     "output_type": "execute_result"
    }
   ],
   "source": [
    "all_product_dict"
   ]
  },
  {
   "cell_type": "code",
   "execution_count": 103,
   "id": "abe66430-5e0e-4235-9ed5-77757aca0f3f",
   "metadata": {},
   "outputs": [
    {
     "name": "stdout",
     "output_type": "stream",
     "text": [
      "message\n",
      "message\n",
      "message\n",
      "message\n",
      "message\n",
      "message\n",
      "message\n",
      "message\n",
      "message\n",
      "message\n",
      "message\n",
      "message\n",
      "message\n",
      "message\n",
      "message\n",
      "message\n",
      "message\n",
      "message\n",
      "message\n",
      "message\n",
      "message\n",
      "message\n",
      "message\n",
      "message\n",
      "message\n",
      "message\n",
      "message\n",
      "message\n",
      "message\n",
      "message\n",
      "message\n",
      "message\n",
      "message\n",
      "message\n",
      "message\n",
      "message\n",
      "message\n",
      "message\n",
      "message\n",
      "message\n",
      "message\n",
      "message\n",
      "message\n",
      "message\n",
      "message\n",
      "message\n",
      "message\n",
      "message\n",
      "message\n",
      "message\n",
      "message\n",
      "message\n",
      "message\n",
      "message\n",
      "message\n",
      "message\n",
      "message\n",
      "message\n",
      "message\n",
      "message\n",
      "message\n",
      "message\n",
      "message\n",
      "message\n",
      "message\n",
      "message\n",
      "message\n",
      "message\n",
      "message\n",
      "message\n",
      "message\n",
      "message\n",
      "message\n",
      "message\n",
      "message\n",
      "message\n",
      "message\n",
      "message\n",
      "message\n",
      "message\n",
      "message\n",
      "message\n",
      "message\n",
      "message\n",
      "message\n",
      "message\n",
      "message\n",
      "message\n",
      "message\n",
      "message\n",
      "message\n",
      "message\n",
      "message\n",
      "message\n",
      "message\n",
      "message\n",
      "message\n",
      "message\n",
      "message\n",
      "message\n",
      "message\n",
      "message\n",
      "message\n",
      "message\n",
      "message\n",
      "message\n",
      "message\n",
      "message\n",
      "message\n",
      "message\n",
      "message\n",
      "message\n",
      "message\n",
      "message\n",
      "message\n",
      "message\n",
      "message\n",
      "message\n",
      "message\n",
      "message\n",
      "message\n",
      "message\n",
      "message\n",
      "message\n",
      "message\n",
      "message\n",
      "message\n",
      "message\n",
      "message\n",
      "message\n",
      "message\n"
     ]
    }
   ],
   "source": [
    "for line in all_product_data[0]:\n",
    "    if line == 'message':\n",
    "        print(line)"
   ]
  },
  {
   "cell_type": "code",
   "execution_count": 35,
   "id": "6ac0cb37-1e5b-4316-af1b-f6cdab178808",
   "metadata": {},
   "outputs": [],
   "source": []
  },
  {
   "cell_type": "code",
   "execution_count": null,
   "id": "d55b147a-f31b-4e1f-a6cd-bdd39e8290b4",
   "metadata": {},
   "outputs": [],
   "source": []
  }
 ],
 "metadata": {
  "kernelspec": {
   "display_name": "quant",
   "language": "python",
   "name": "quant"
  },
  "language_info": {
   "codemirror_mode": {
    "name": "ipython",
    "version": 3
   },
   "file_extension": ".py",
   "mimetype": "text/x-python",
   "name": "python",
   "nbconvert_exporter": "python",
   "pygments_lexer": "ipython3",
   "version": "3.9.7"
  }
 },
 "nbformat": 4,
 "nbformat_minor": 5
}
